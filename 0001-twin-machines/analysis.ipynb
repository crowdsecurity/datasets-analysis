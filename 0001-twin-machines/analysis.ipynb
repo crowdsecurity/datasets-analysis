{
 "cells": [
  {
   "cell_type": "raw",
   "id": "fb1446d4-d4ab-48cb-8a3c-0e6ba01d6695",
   "metadata": {},
   "source": [
    "---\n",
    "title: \"Twin Machines\"\n",
    "format:\n",
    "  html:\n",
    "    code-fold: true\n",
    "    code-tools: false\n",
    "jupyter: python3\n",
    "toc: true\n",
    "execute:\n",
    "  echo: false\n",
    "  enabled: false\n",
    "---"
   ]
  },
  {
   "cell_type": "markdown",
   "id": "32a81e17",
   "metadata": {},
   "source": [
    "# Load data\n",
    "\n",
    "## Data Description\n",
    "\n",
    "| column            | dtype          | description                                                      | Sample                           |\n",
    "|:------------------|:---------------|:-----------------------------------------------------------------|:---------------------------------|\n",
    "| date              | datetime64[ns] | Date of the report                                               | 2022-01-08 0:00:00               |\n",
    "| version_number    | object         | CrowdSec version number                                          | v1.2.2                           |\n",
    "| scenario          | object         | Name of the crowdsec scenario                                    | crowdsecurity/ssh-slow-bf        |\n",
    "| watcher_id        | Int64          | id of the watcher installation                                   | 111566                           |\n",
    "| ip                | object         | Reported IP                                                      | 31.184.198.71                    |\n",
    "| id                | Int64          | Reported IP ID                                                   | 153806                           |\n",
    "| rdns              | object         | RDNS for the Reported IP                                         | nan                              |\n",
    "| country           | object         | Country for the Reported IP                                      | RU                               |\n",
    "| as_num            | Int64          | AS Nunber for the Reported IP                                    | 34665                            |\n",
    "| as_name           | object         | Autonomous System Organization Name                              | Petersburg Internet Network ltd. |\n",
    "| Config            | object         | Type of the machine in the article                               | MachineA#NoBouncer               |\n",
    "| scenario_category | object         | High-level category for each scenario                            | Bruteforce                       |\n",
    "| malevolence_score | int64          | Malevolence score for the reported IP graded by the CrowdSec API | 5                                |"
   ]
  },
  {
   "cell_type": "code",
   "execution_count": 1,
   "id": "7c3d4ed0",
   "metadata": {
    "ExecuteTime": {
     "end_time": "2022-03-10T14:45:47.465043Z",
     "start_time": "2022-03-10T14:45:46.472458Z"
    }
   },
   "outputs": [],
   "source": [
    "import os\n",
    "from pathlib import Path\n",
    "\n",
    "import pandas as pd\n",
    "import plotly.express as px\n",
    "\n",
    "pd.options.plotting.backend = \"plotly\"\n",
    "pd.options.display.max_columns = 60\n",
    "pd.options.display.max_rows = 60"
   ]
  },
  {
   "cell_type": "code",
   "execution_count": 2,
   "id": "a95466aa",
   "metadata": {
    "ExecuteTime": {
     "end_time": "2022-03-10T10:24:46.944283Z",
     "start_time": "2022-03-10T10:24:46.201469Z"
    },
    "tags": []
   },
   "outputs": [],
   "source": [
    "EXPORT_IMAGES_DIR = Path(\"~/Documents/csdrive/twin_machines_article\").expanduser()\n",
    "EXPORT_IMAGES_DIR.mkdir(exist_ok=True, parents=True)\n",
    "CONFIG_COL = \"Config\"\n",
    "FREQ = \"W\"\n",
    "\n",
    "df = pd.read_parquet(\n",
    "    \"data/twin-machines-signals.parq\"\n",
    ")\n",
    "# Or alternatively load in csv\n",
    "# df2 = pd.read_csv('data/twin-machines-signals.csv')"
   ]
  },
  {
   "cell_type": "markdown",
   "id": "b3b434d9",
   "metadata": {},
   "source": [
    "# EDA\n",
    "## Number of alerts and IPs"
   ]
  },
  {
   "cell_type": "code",
   "execution_count": 3,
   "id": "e048f9b6",
   "metadata": {
    "ExecuteTime": {
     "end_time": "2022-03-10T10:24:46.985458Z",
     "start_time": "2022-03-10T10:24:46.946982Z"
    }
   },
   "outputs": [
    {
     "data": {
      "text/html": [
       "<div>\n",
       "<style scoped>\n",
       "    .dataframe tbody tr th:only-of-type {\n",
       "        vertical-align: middle;\n",
       "    }\n",
       "\n",
       "    .dataframe tbody tr th {\n",
       "        vertical-align: top;\n",
       "    }\n",
       "\n",
       "    .dataframe thead th {\n",
       "        text-align: right;\n",
       "    }\n",
       "</style>\n",
       "<table border=\"1\" class=\"dataframe\">\n",
       "  <thead>\n",
       "    <tr style=\"text-align: right;\">\n",
       "      <th></th>\n",
       "      <th>ips_reported</th>\n",
       "      <th>n_alerts</th>\n",
       "    </tr>\n",
       "    <tr>\n",
       "      <th>Config</th>\n",
       "      <th></th>\n",
       "      <th></th>\n",
       "    </tr>\n",
       "  </thead>\n",
       "  <tbody>\n",
       "    <tr>\n",
       "      <th>MachineA#NoBouncer</th>\n",
       "      <td>149</td>\n",
       "      <td>1973</td>\n",
       "    </tr>\n",
       "    <tr>\n",
       "      <th>MachineB#Bouncer</th>\n",
       "      <td>91</td>\n",
       "      <td>168</td>\n",
       "    </tr>\n",
       "  </tbody>\n",
       "</table>\n",
       "</div>"
      ],
      "text/plain": [
       "                    ips_reported  n_alerts\n",
       "Config                                    \n",
       "MachineA#NoBouncer           149      1973\n",
       "MachineB#Bouncer              91       168"
      ]
     },
     "execution_count": 3,
     "metadata": {},
     "output_type": "execute_result"
    }
   ],
   "source": [
    "g = df.groupby([CONFIG_COL])\n",
    "g.agg(ips_reported=(\"ip\", \"nunique\"), n_alerts=(\"ip\", \"size\"))"
   ]
  },
  {
   "cell_type": "markdown",
   "id": "3f3ae992-3b3b-4422-8a1d-a0badd5c89ab",
   "metadata": {},
   "source": [
    "## Number of Average Alerts per Day"
   ]
  },
  {
   "cell_type": "code",
   "execution_count": 4,
   "id": "ba9a109b-0533-4046-a3e6-11cad67e94ec",
   "metadata": {},
   "outputs": [
    {
     "data": {
      "text/html": [
       "<div>\n",
       "<style scoped>\n",
       "    .dataframe tbody tr th:only-of-type {\n",
       "        vertical-align: middle;\n",
       "    }\n",
       "\n",
       "    .dataframe tbody tr th {\n",
       "        vertical-align: top;\n",
       "    }\n",
       "\n",
       "    .dataframe thead th {\n",
       "        text-align: right;\n",
       "    }\n",
       "</style>\n",
       "<table border=\"1\" class=\"dataframe\">\n",
       "  <thead>\n",
       "    <tr style=\"text-align: right;\">\n",
       "      <th></th>\n",
       "      <th>average_alerts_per_day</th>\n",
       "    </tr>\n",
       "    <tr>\n",
       "      <th>Config</th>\n",
       "      <th></th>\n",
       "    </tr>\n",
       "  </thead>\n",
       "  <tbody>\n",
       "    <tr>\n",
       "      <th>MachineA#NoBouncer</th>\n",
       "      <td>24.974684</td>\n",
       "    </tr>\n",
       "    <tr>\n",
       "      <th>MachineB#Bouncer</th>\n",
       "      <td>3.294118</td>\n",
       "    </tr>\n",
       "  </tbody>\n",
       "</table>\n",
       "</div>"
      ],
      "text/plain": [
       "                    average_alerts_per_day\n",
       "Config                                    \n",
       "MachineA#NoBouncer               24.974684\n",
       "MachineB#Bouncer                  3.294118"
      ]
     },
     "execution_count": 4,
     "metadata": {},
     "output_type": "execute_result"
    }
   ],
   "source": [
    "g = df.groupby([pd.Grouper(key='date', freq='D'), CONFIG_COL])\n",
    "dd = g.size().rename('alerts_per_day').groupby(CONFIG_COL).mean().rename('average_alerts_per_day').to_frame()\n",
    "dd"
   ]
  },
  {
   "cell_type": "markdown",
   "id": "2da74692",
   "metadata": {
    "ExecuteTime": {
     "end_time": "2022-03-09T18:25:47.326247Z",
     "start_time": "2022-03-09T18:25:47.297866Z"
    }
   },
   "source": [
    "## Average NUmber of Alerts per IPs "
   ]
  },
  {
   "cell_type": "code",
   "execution_count": 5,
   "id": "4aa5fb87",
   "metadata": {
    "ExecuteTime": {
     "end_time": "2022-03-10T10:24:47.027011Z",
     "start_time": "2022-03-10T10:24:46.988862Z"
    }
   },
   "outputs": [
    {
     "data": {
      "text/html": [
       "<div>\n",
       "<style scoped>\n",
       "    .dataframe tbody tr th:only-of-type {\n",
       "        vertical-align: middle;\n",
       "    }\n",
       "\n",
       "    .dataframe tbody tr th {\n",
       "        vertical-align: top;\n",
       "    }\n",
       "\n",
       "    .dataframe thead th {\n",
       "        text-align: right;\n",
       "    }\n",
       "</style>\n",
       "<table border=\"1\" class=\"dataframe\">\n",
       "  <thead>\n",
       "    <tr style=\"text-align: right;\">\n",
       "      <th></th>\n",
       "      <th>average_alerts_per_ip</th>\n",
       "    </tr>\n",
       "    <tr>\n",
       "      <th>Config</th>\n",
       "      <th></th>\n",
       "    </tr>\n",
       "  </thead>\n",
       "  <tbody>\n",
       "    <tr>\n",
       "      <th>MachineA#NoBouncer</th>\n",
       "      <td>13.241611</td>\n",
       "    </tr>\n",
       "    <tr>\n",
       "      <th>MachineB#Bouncer</th>\n",
       "      <td>1.846154</td>\n",
       "    </tr>\n",
       "  </tbody>\n",
       "</table>\n",
       "</div>"
      ],
      "text/plain": [
       "                    average_alerts_per_ip\n",
       "Config                                   \n",
       "MachineA#NoBouncer              13.241611\n",
       "MachineB#Bouncer                 1.846154"
      ]
     },
     "execution_count": 5,
     "metadata": {},
     "output_type": "execute_result"
    }
   ],
   "source": [
    "average_alerts_by_ip_df = (\n",
    "    df.groupby([\"ip\", CONFIG_COL]).size().groupby(CONFIG_COL).mean()\n",
    ")\n",
    "average_alerts_by_ip_df.to_frame(\"average_alerts_per_ip\")"
   ]
  },
  {
   "cell_type": "markdown",
   "id": "819b2485",
   "metadata": {},
   "source": [
    "# Viz"
   ]
  },
  {
   "cell_type": "markdown",
   "id": "0fca1eb9",
   "metadata": {},
   "source": [
    "## Plotly config (optional)"
   ]
  },
  {
   "cell_type": "code",
   "execution_count": 6,
   "id": "d6ef36be",
   "metadata": {
    "ExecuteTime": {
     "end_time": "2022-03-10T10:57:41.169520Z",
     "start_time": "2022-03-10T10:57:41.125982Z"
    }
   },
   "outputs": [],
   "source": [
    "import plotly.graph_objects as go\n",
    "import plotly.io as pio\n",
    "import os\n",
    "\n",
    "CONSOLE_COLORWAY = [\"#5D54B0\",\n",
    "\"#FFC343\",\n",
    "\"#C3BEF3\",\n",
    "\"#4C91C2\",\n",
    "\"#B90C85\",\n",
    "\"#FFD1E4\",\n",
    "\"#E21717\",\n",
    "\"#F17C4E\",\n",
    "\"#9E5C4F\",\n",
    "\"#3EBB3E\",]\n",
    "\n",
    "CS_COLORWAY = [\n",
    "    \"#FFAD01\",\n",
    "    \"#5146AE\",\n",
    "    \"#1F92FC\",\n",
    "    \"#636466\",\n",
    "    \"#6DD79A\",\n",
    "    \"#FF3C31\",\n",
    "    \"#5952FF\",\n",
    "    \"#FCC028\",\n",
    "    \"#A7D4FF\",\n",
    "    \"#9d9fa2\",\n",
    "    \"#BAEED0\",\n",
    "    \"#FFA6A0\",\n",
    "    \"#B5AEFF\",\n",
    "    \"#FFE49A\",\n",
    "]\n",
    "draft_template = go.layout.Template()\n",
    "template_dict = dict(\n",
    "        layout=dict(\n",
    "            legend=dict(\n",
    "                yanchor=\"top\",\n",
    "                y=0.99,\n",
    "                xanchor=\"right\",\n",
    "            ),\n",
    "            title_x=0.5,\n",
    "            margin=dict(\n",
    "                t=60,\n",
    "                b=60,\n",
    "                l=60,\n",
    "                r=60,\n",
    "            ),\n",
    "            xaxis=dict(automargin=True, showgrid=False, title=None),\n",
    "            yaxis=dict(automargin=True, title=None),\n",
    "            colorway=CONSOLE_COLORWAY,\n",
    "        ),\n",
    "    )\n",
    "pio.templates[\"crowdsec\"] =  draft_template.update(template_dict, overwrite=True)\n",
    "pio.templates.default = \"crowdsec\"\n",
    "# pio.renderers.default = 'png' # to display in GitHub \n",
    "# https://github.com/plotly/plotly.py/issues/931\n",
    "# Change to plotly_mimetype+notebook when running interactively or check pio.renderers.keys()"
   ]
  },
  {
   "cell_type": "markdown",
   "id": "b0d5c6b9",
   "metadata": {},
   "source": [
    "## Viz routines"
   ]
  },
  {
   "cell_type": "code",
   "execution_count": 7,
   "id": "0c16a063",
   "metadata": {
    "ExecuteTime": {
     "end_time": "2022-03-10T10:57:43.858151Z",
     "start_time": "2022-03-10T10:57:43.833763Z"
    }
   },
   "outputs": [],
   "source": [
    "import unicodedata\n",
    "import re\n",
    "\n",
    "def slugify(value, allow_unicode=False):\n",
    "    \"\"\"\n",
    "    Taken from https://github.com/django/django/blob/master/django/utils/text.py\n",
    "    Convert to ASCII if 'allow_unicode' is False. Convert spaces or repeated\n",
    "    dashes to single dashes. Remove characters that aren't alphanumerics,\n",
    "    underscores, or hyphens. Convert to lowercase. Also strip leading and\n",
    "    trailing whitespace, dashes, and underscores.\n",
    "    \"\"\"\n",
    "    value = str(value)\n",
    "    if allow_unicode:\n",
    "        value = unicodedata.normalize('NFKC', value)\n",
    "    else:\n",
    "        value = unicodedata.normalize('NFKD', value).encode('ascii', 'ignore').decode('ascii')\n",
    "    value = re.sub(r'[^\\w\\s-]', '', value.lower())\n",
    "    return re.sub(r'[-\\s]+', '-', value).strip('-_')"
   ]
  },
  {
   "cell_type": "code",
   "execution_count": 8,
   "id": "c4d572e9",
   "metadata": {
    "ExecuteTime": {
     "end_time": "2022-03-10T10:57:44.412047Z",
     "start_time": "2022-03-10T10:57:44.387829Z"
    }
   },
   "outputs": [],
   "source": [
    "def save_fig(fig, title, root_dir=EXPORT_IMAGES_DIR, ext='.png', suffix=None):\n",
    "    filename = \"-\".join(filter(None, (slugify(title), suffix))) + ext\n",
    "    return fig.write_image(root_dir / filename)"
   ]
  },
  {
   "cell_type": "markdown",
   "id": "ed5688f1",
   "metadata": {
    "ExecuteTime": {
     "end_time": "2022-03-09T18:27:15.575393Z",
     "start_time": "2022-03-09T18:27:15.544825Z"
    }
   },
   "source": [
    "## Number of Unique IPs reported"
   ]
  },
  {
   "cell_type": "code",
   "execution_count": 9,
   "id": "8f58e6f7",
   "metadata": {
    "ExecuteTime": {
     "end_time": "2022-03-10T10:57:45.092548Z",
     "start_time": "2022-03-10T10:57:45.058406Z"
    }
   },
   "outputs": [],
   "source": [
    "unique_ips = (\n",
    "    df.groupby([CONFIG_COL, pd.Grouper(freq=FREQ, key=\"date\")])[\"ip\"]\n",
    "    .nunique()\n",
    "    .rename(\"ips_reported\")\n",
    "    .reset_index(level=CONFIG_COL)\n",
    ")"
   ]
  },
  {
   "cell_type": "code",
   "execution_count": 10,
   "id": "dcf0f47d",
   "metadata": {
    "ExecuteTime": {
     "end_time": "2022-03-10T10:57:45.411151Z",
     "start_time": "2022-03-10T10:57:45.221680Z"
    }
   },
   "outputs": [
    {
     "data": {
      "text/html": [
       "        <script type=\"text/javascript\">\n",
       "        window.PlotlyConfig = {MathJaxConfig: 'local'};\n",
       "        if (window.MathJax) {MathJax.Hub.Config({SVG: {font: \"STIX-Web\"}});}\n",
       "        if (typeof require !== 'undefined') {\n",
       "        require.undef(\"plotly\");\n",
       "        requirejs.config({\n",
       "            paths: {\n",
       "                'plotly': ['https://cdn.plot.ly/plotly-2.6.3.min']\n",
       "            }\n",
       "        });\n",
       "        require(['plotly'], function(Plotly) {\n",
       "            window._Plotly = Plotly;\n",
       "        });\n",
       "        }\n",
       "        </script>\n",
       "        "
      ]
     },
     "metadata": {},
     "output_type": "display_data"
    },
    {
     "data": {
      "text/html": [
       "<div>                            <div id=\"9fd6fbd8-3276-40ba-9a74-a909748b6e93\" class=\"plotly-graph-div\" style=\"height:525px; width:100%;\"></div>            <script type=\"text/javascript\">                require([\"plotly\"], function(Plotly) {                    window.PLOTLYENV=window.PLOTLYENV || {};                                    if (document.getElementById(\"9fd6fbd8-3276-40ba-9a74-a909748b6e93\")) {                    Plotly.newPlot(                        \"9fd6fbd8-3276-40ba-9a74-a909748b6e93\",                        [{\"alignmentgroup\":\"True\",\"hovertemplate\":\"Config=MachineA#NoBouncer<br>date=%{x}<br>value=%{y}<extra></extra>\",\"legendgroup\":\"MachineA#NoBouncer\",\"marker\":{\"color\":\"#5D54B0\",\"pattern\":{\"shape\":\"\"}},\"name\":\"MachineA#NoBouncer\",\"offsetgroup\":\"MachineA#NoBouncer\",\"orientation\":\"v\",\"showlegend\":true,\"textposition\":\"auto\",\"x\":[\"2021-12-26T00:00:00\",\"2022-01-02T00:00:00\",\"2022-01-09T00:00:00\",\"2022-01-16T00:00:00\",\"2022-01-23T00:00:00\",\"2022-01-30T00:00:00\",\"2022-02-06T00:00:00\",\"2022-02-13T00:00:00\",\"2022-02-20T00:00:00\",\"2022-02-27T00:00:00\",\"2022-03-06T00:00:00\",\"2022-03-13T00:00:00\"],\"xaxis\":\"x\",\"y\":[17,21,23,18,28,18,26,28,25,15,23,11],\"yaxis\":\"y\",\"type\":\"bar\"},{\"alignmentgroup\":\"True\",\"hovertemplate\":\"Config=MachineB#Bouncer<br>date=%{x}<br>value=%{y}<extra></extra>\",\"legendgroup\":\"MachineB#Bouncer\",\"marker\":{\"color\":\"#FFC343\",\"pattern\":{\"shape\":\"\"}},\"name\":\"MachineB#Bouncer\",\"offsetgroup\":\"MachineB#Bouncer\",\"orientation\":\"v\",\"showlegend\":true,\"textposition\":\"auto\",\"x\":[\"2021-12-26T00:00:00\",\"2022-01-02T00:00:00\",\"2022-01-09T00:00:00\",\"2022-01-16T00:00:00\",\"2022-01-23T00:00:00\",\"2022-01-30T00:00:00\",\"2022-02-06T00:00:00\",\"2022-02-13T00:00:00\",\"2022-02-20T00:00:00\",\"2022-02-27T00:00:00\",\"2022-03-06T00:00:00\",\"2022-03-13T00:00:00\"],\"xaxis\":\"x\",\"y\":[12,11,11,9,12,5,8,11,4,4,6,5],\"yaxis\":\"y\",\"type\":\"bar\"}],                        {\"template\":{\"layout\":{\"colorway\":[\"#5D54B0\",\"#FFC343\",\"#C3BEF3\",\"#4C91C2\",\"#B90C85\",\"#FFD1E4\",\"#E21717\",\"#F17C4E\",\"#9E5C4F\",\"#3EBB3E\"],\"legend\":{\"xanchor\":\"right\",\"y\":0.99,\"yanchor\":\"top\"},\"margin\":{\"b\":60,\"l\":60,\"r\":60,\"t\":60},\"title\":{\"x\":0.5},\"xaxis\":{\"automargin\":true,\"showgrid\":false},\"yaxis\":{\"automargin\":true}}},\"xaxis\":{\"anchor\":\"y\",\"domain\":[0.0,1.0],\"title\":{}},\"yaxis\":{\"anchor\":\"x\",\"domain\":[0.0,1.0],\"title\":{}},\"legend\":{\"title\":{\"text\":\"Config\"},\"tracegroupgap\":0},\"title\":{\"text\":\"Number of Unique Ips reported by week\"},\"barmode\":\"group\"},                        {\"responsive\": true}                    ).then(function(){\n",
       "                            \n",
       "var gd = document.getElementById('9fd6fbd8-3276-40ba-9a74-a909748b6e93');\n",
       "var x = new MutationObserver(function (mutations, observer) {{\n",
       "        var display = window.getComputedStyle(gd).display;\n",
       "        if (!display || display === 'none') {{\n",
       "            console.log([gd, 'removed!']);\n",
       "            Plotly.purge(gd);\n",
       "            observer.disconnect();\n",
       "        }}\n",
       "}});\n",
       "\n",
       "// Listen for the removal of the full notebook cells\n",
       "var notebookContainer = gd.closest('#notebook-container');\n",
       "if (notebookContainer) {{\n",
       "    x.observe(notebookContainer, {childList: true});\n",
       "}}\n",
       "\n",
       "// Listen for the clearing of the current output cell\n",
       "var outputEl = gd.closest('.output');\n",
       "if (outputEl) {{\n",
       "    x.observe(outputEl, {childList: true});\n",
       "}}\n",
       "\n",
       "                        })                };                });            </script>        </div>"
      ]
     },
     "metadata": {},
     "output_type": "display_data"
    }
   ],
   "source": [
    "title = f\"Number of Unique Ips reported by week\"\n",
    "fig = (\n",
    "    unique_ips.plot.bar(\n",
    "        title=title,\n",
    "        color=CONFIG_COL,\n",
    "        barmode=\"group\",\n",
    "    )\n",
    "    .update_xaxes(title=None)\n",
    "    .update_yaxes(title=None)\n",
    ")\n",
    "save_fig(fig, title)\n",
    "fig"
   ]
  },
  {
   "cell_type": "markdown",
   "id": "867adff4",
   "metadata": {},
   "source": [
    "## Alerts"
   ]
  },
  {
   "cell_type": "code",
   "execution_count": 11,
   "id": "b6790221",
   "metadata": {
    "ExecuteTime": {
     "end_time": "2022-03-10T10:57:46.708218Z",
     "start_time": "2022-03-10T10:57:46.676766Z"
    }
   },
   "outputs": [],
   "source": [
    "ts = (\n",
    "    df.groupby([CONFIG_COL, pd.Grouper(freq=FREQ, key=\"date\")])\n",
    "    .size()\n",
    "    .rename(\"n_alerts\")\n",
    "    .reset_index(level=CONFIG_COL)\n",
    ")"
   ]
  },
  {
   "cell_type": "code",
   "execution_count": 12,
   "id": "0736681f",
   "metadata": {
    "ExecuteTime": {
     "end_time": "2022-03-10T10:57:47.026791Z",
     "start_time": "2022-03-10T10:57:46.840274Z"
    }
   },
   "outputs": [
    {
     "data": {
      "text/html": [
       "<div>                            <div id=\"50ebf024-8d53-48b3-ba2f-83519abf9cc4\" class=\"plotly-graph-div\" style=\"height:525px; width:100%;\"></div>            <script type=\"text/javascript\">                require([\"plotly\"], function(Plotly) {                    window.PLOTLYENV=window.PLOTLYENV || {};                                    if (document.getElementById(\"50ebf024-8d53-48b3-ba2f-83519abf9cc4\")) {                    Plotly.newPlot(                        \"50ebf024-8d53-48b3-ba2f-83519abf9cc4\",                        [{\"alignmentgroup\":\"True\",\"hovertemplate\":\"Config=MachineA#NoBouncer<br>date=%{x}<br>value=%{y}<extra></extra>\",\"legendgroup\":\"MachineA#NoBouncer\",\"marker\":{\"color\":\"#5D54B0\",\"pattern\":{\"shape\":\"\"}},\"name\":\"MachineA#NoBouncer\",\"offsetgroup\":\"MachineA#NoBouncer\",\"orientation\":\"v\",\"showlegend\":true,\"textposition\":\"auto\",\"x\":[\"2021-12-26T00:00:00\",\"2022-01-02T00:00:00\",\"2022-01-09T00:00:00\",\"2022-01-16T00:00:00\",\"2022-01-23T00:00:00\",\"2022-01-30T00:00:00\",\"2022-02-06T00:00:00\",\"2022-02-13T00:00:00\",\"2022-02-20T00:00:00\",\"2022-02-27T00:00:00\",\"2022-03-06T00:00:00\",\"2022-03-13T00:00:00\"],\"xaxis\":\"x\",\"y\":[117,206,245,294,352,112,142,162,146,82,63,52],\"yaxis\":\"y\",\"type\":\"bar\"},{\"alignmentgroup\":\"True\",\"hovertemplate\":\"Config=MachineB#Bouncer<br>date=%{x}<br>value=%{y}<extra></extra>\",\"legendgroup\":\"MachineB#Bouncer\",\"marker\":{\"color\":\"#FFC343\",\"pattern\":{\"shape\":\"\"}},\"name\":\"MachineB#Bouncer\",\"offsetgroup\":\"MachineB#Bouncer\",\"orientation\":\"v\",\"showlegend\":true,\"textposition\":\"auto\",\"x\":[\"2021-12-26T00:00:00\",\"2022-01-02T00:00:00\",\"2022-01-09T00:00:00\",\"2022-01-16T00:00:00\",\"2022-01-23T00:00:00\",\"2022-01-30T00:00:00\",\"2022-02-06T00:00:00\",\"2022-02-13T00:00:00\",\"2022-02-20T00:00:00\",\"2022-02-27T00:00:00\",\"2022-03-06T00:00:00\",\"2022-03-13T00:00:00\"],\"xaxis\":\"x\",\"y\":[26,20,14,17,25,8,11,17,4,4,12,10],\"yaxis\":\"y\",\"type\":\"bar\"}],                        {\"template\":{\"layout\":{\"colorway\":[\"#5D54B0\",\"#FFC343\",\"#C3BEF3\",\"#4C91C2\",\"#B90C85\",\"#FFD1E4\",\"#E21717\",\"#F17C4E\",\"#9E5C4F\",\"#3EBB3E\"],\"legend\":{\"xanchor\":\"right\",\"y\":0.99,\"yanchor\":\"top\"},\"margin\":{\"b\":60,\"l\":60,\"r\":60,\"t\":60},\"title\":{\"x\":0.5},\"xaxis\":{\"automargin\":true,\"showgrid\":false},\"yaxis\":{\"automargin\":true}}},\"xaxis\":{\"anchor\":\"y\",\"domain\":[0.0,1.0],\"title\":{}},\"yaxis\":{\"anchor\":\"x\",\"domain\":[0.0,1.0],\"title\":{}},\"legend\":{\"title\":{\"text\":\"Config\"},\"tracegroupgap\":0},\"title\":{\"text\":\"Number of Alerts by week\"},\"barmode\":\"group\"},                        {\"responsive\": true}                    ).then(function(){\n",
       "                            \n",
       "var gd = document.getElementById('50ebf024-8d53-48b3-ba2f-83519abf9cc4');\n",
       "var x = new MutationObserver(function (mutations, observer) {{\n",
       "        var display = window.getComputedStyle(gd).display;\n",
       "        if (!display || display === 'none') {{\n",
       "            console.log([gd, 'removed!']);\n",
       "            Plotly.purge(gd);\n",
       "            observer.disconnect();\n",
       "        }}\n",
       "}});\n",
       "\n",
       "// Listen for the removal of the full notebook cells\n",
       "var notebookContainer = gd.closest('#notebook-container');\n",
       "if (notebookContainer) {{\n",
       "    x.observe(notebookContainer, {childList: true});\n",
       "}}\n",
       "\n",
       "// Listen for the clearing of the current output cell\n",
       "var outputEl = gd.closest('.output');\n",
       "if (outputEl) {{\n",
       "    x.observe(outputEl, {childList: true});\n",
       "}}\n",
       "\n",
       "                        })                };                });            </script>        </div>"
      ]
     },
     "metadata": {},
     "output_type": "display_data"
    }
   ],
   "source": [
    "title = \"Number of Alerts by week\"\n",
    "filename = slugify(title) + \".png\"\n",
    "fig = (\n",
    "    ts.plot.bar(\n",
    "        color=CONFIG_COL,\n",
    "        title=title,\n",
    "        barmode=\"group\",\n",
    "    )\n",
    "    .update_xaxes(title=None)\n",
    "    .update_yaxes(title=None)\n",
    ")\n",
    "save_fig(fig, title)\n",
    "fig"
   ]
  },
  {
   "cell_type": "code",
   "execution_count": 13,
   "id": "f87eceb4",
   "metadata": {
    "ExecuteTime": {
     "end_time": "2022-03-10T10:57:47.268587Z",
     "start_time": "2022-03-10T10:57:47.029001Z"
    }
   },
   "outputs": [
    {
     "data": {
      "text/html": [
       "<div>                            <div id=\"9d8a065b-2ff0-4680-8aa3-66fd3dc0892f\" class=\"plotly-graph-div\" style=\"height:525px; width:100%;\"></div>            <script type=\"text/javascript\">                require([\"plotly\"], function(Plotly) {                    window.PLOTLYENV=window.PLOTLYENV || {};                                    if (document.getElementById(\"9d8a065b-2ff0-4680-8aa3-66fd3dc0892f\")) {                    Plotly.newPlot(                        \"9d8a065b-2ff0-4680-8aa3-66fd3dc0892f\",                        [{\"alignmentgroup\":\"True\",\"bingroup\":\"x\",\"hovertemplate\":\"Config=MachineA#NoBouncer<br>malevolence_score=%{x}<br>count=%{y}<extra></extra>\",\"legendgroup\":\"MachineA#NoBouncer\",\"marker\":{\"color\":\"#5D54B0\",\"pattern\":{\"shape\":\"\"}},\"name\":\"MachineA#NoBouncer\",\"offsetgroup\":\"MachineA#NoBouncer\",\"orientation\":\"v\",\"showlegend\":true,\"x\":[5,5,5,5,5,5,5,5,5,5,5,5,5,5,5,5,5,5,5,5,5,5,5,5,5,5,5,5,5,5,5,5,5,5,5,5,5,5,5,5,5,5,5,5,5,5,5,5,5,5,5,5,5,2,5,5,5,5,5,5,5,5,5,3,3,5,5,5,5,5,5,5,5,5,5,5,5,5,2,5,5,5,5,5,5,5,5,5,5,5,5,5,5,5,5,5,5,5,5,5,5,5,5,5,5,5,5,5,5,5,5,5,5,5,5,5,5,5,5,5,5,5,5,5,5,5,5,5,5,5,5,5,5,5,5,5,3,5,5,5,5,5,5,5,5,5,5,5,5,5,5,5,5,5,5,5,5,5,5,5,5,5,5,5,5,5,5,5,5,5,5,5,5,5,5,5,5,5,5,5,5,5,5,5,5,5,5,5,5,5,5,5,5,5,5,5,5,5,5,5,5,5,5,5,5,5,5,5,5,2,5,5,5,5,5,5,5,5,5,5,5,5,5,5,5,5,5,5,5,5,5,5,5,5,5,5,5,5,5,5,5,5,5,5,5,5,5,5,5,5,5,5,5,5,5,5,5,5,5,5,5,5,5,5,5,5,5,5,5,5,5,5,2,2,2,5,5,5,5,5,5,5,5,5,5,5,5,5,5,5,5,5,5,5,5,5,5,5,5,5,5,5,5,5,5,5,5,5,5,5,5,5,5,5,5,5,5,5,5,5,5,5,5,5,5,5,5,5,5,5,5,5,5,5,5,5,5,5,5,5,5,5,5,5,2,5,5,5,5,5,5,5,5,5,5,5,5,5,5,5,5,3,5,5,0,5,5,5,5,5,5,5,5,5,5,5,5,5,5,5,5,5,5,5,5,2,5,5,5,5,5,5,5,5,5,5,5,5,5,5,5,5,5,5,5,5,5,5,5,5,5,5,5,5,5,5,5,5,5,5,5,5,5,5,5,5,5,5,5,5,5,5,5,5,5,5,5,5,5,5,5,5,5,5,5,5,5,5,5,5,5,5,5,5,5,5,5,5,5,5,5,5,5,5,5,5,5,5,5,5,5,5,5,5,5,5,5,5,5,5,5,5,5,5,5,5,5,5,5,5,5,5,5,5,5,5,5,5,5,5,5,5,5,5,5,5,5,5,5,5,5,5,5,5,5,5,5,5,5,5,5,5,5,5,5,5,5,5,5,5,5,5,5,5,5,5,5,5,5,5,5,5,5,5,5,5,5,5,5,5,5,5,5,5,5,5,5,5,5,5,5,5,5,5,5,5,5,5,5,5,5,5,5,5,5,5,5,5,5,5,5,5,5,5,5,5,5,5,5,5,5,5,5,5,5,5,5,5,5,5,5,5,5,5,5,5,5,5,5,5,5,5,5,5,5,5,5,5,5,5,5,5,5,5,5,5,5,5,5,5,5,5,5,5,5,5,5,5,5,5,5,5,5,5,5,5,5,5,5,5,5,5,5,5,5,5,5,5,5,5,5,5,5,5,5,5,5,5,5,5,5,5,5,5,5,5,5,5,5,5,2,5,5,5,5,5,3,3,5,5,5,5,5,5,5,5,5,5,5,5,5,5,5,5,5,5,5,5,5,5,5,5,5,5,5,5,5,5,5,5,5,5,5,5,5,5,5,5,5,5,5,5,5,5,5,5,5,5,5,5,5,5,5,5,5,5,5,5,5,5,5,5,5,5,5,5,5,5,5,5,5,5,5,5,5,5,5,5,5,5,5,5,5,5,5,5,5,5,5,5,5,5,5,5,5,5,5,5,5,5,5,5,5,5,5,5,5,5,5,5,5,5,5,5,5,5,5,5,5,5,5,5,5,5,5,5,5,5,5,5,5,5,5,5,5,5,5,5,5,5,5,5,5,5,5,5,5,5,5,5,5,5,5,5,5,5,5,5,5,5,5,5,5,5,5,5,5,5,5,5,5,5,5,5,5,5,5,5,5,5,5,5,5,5,5,5,5,0,5,5,5,5,5,5,5,5,5,5,5,5,5,5,5,5,5,5,5,5,5,5,5,5,5,5,5,5,5,5,5,5,5,5,5,5,5,5,5,5,5,2,2,2,5,5,5,5,5,5,5,5,5,5,5,5,5,5,5,5,5,5,3,5,5,5,5,5,5,5,5,5,5,5,5,5,5,5,5,5,5,5,5,5,5,5,5,5,5,5,5,5,5,5,5,5,5,5,5,5,5,5,5,5,5,5,5,5,2,2,2,5,5,5,5,5,5,5,5,5,5,5,5,5,5,5,5,5,5,5,5,5,5,5,5,5,5,5,5,5,5,5,5,5,5,5,5,5,5,5,5,5,5,5,5,5,5,5,5,5,5,5,5,5,5,5,5,5,5,5,5,5,5,5,5,5,5,5,5,5,5,5,5,5,5,5,5,5,5,5,5,5,5,5,5,5,5,5,5,5,5,5,5,5,5,5,5,5,5,5,5,5,5,5,5,5,5,5,5,5,5,5,5,5,5,5,5,5,5,5,5,5,5,5,5,5,5,5,5,5,5,5,5,5,5,5,5,5,5,5,5,5,5,5,5,5,5,5,5,5,5,5,5,5,5,5,5,5,3,5,5,5,5,5,5,5,5,5,5,5,5,3,5,5,5,5,5,5,5,5,5,5,5,5,5,5,5,5,5,5,5,5,5,5,5,5,5,5,5,5,5,5,5,5,5,5,5,5,5,5,5,5,5,5,5,5,5,5,5,5,5,5,5,5,5,5,5,5,5,5,5,5,5,5,5,5,5,5,5,2,5,5,5,2,5,5,5,5,5,5,5,5,5,5,5,5,5,5,5,5,5,5,5,2,2,5,5,5,5,5,5,5,5,5,5,5,5,5,4,2,5,2,4,4,4,2,5,2,5,5,5,5,4,4,5,5,4,5,4,5,5,5,5,4,5,5,4,2,4,4,2,5,4,5,5,5,5,5,5,5,5,5,5,5,5,5,5,5,5,5,5,5,5,5,5,5,5,5,5,5,5,5,5,5,5,5,5,5,5,5,5,5,5,5,5,5,5,5,5,5,5,5,5,5,5,5,5,5,5,5,5,5,5,5,5,5,5,5,5,5,5,5,5,5,5,5,5,5,5,5,5,5,5,5,5,5,5,5,2,2,2,2,5,5,5,5,5,5,5,5,5,5,5,5,5,5,5,5,5,5,5,5,5,5,5,5,5,5,5,5,5,5,5,5,5,5,5,5,5,5,5,5,5,5,5,5,5,5,5,5,5,5,5,5,5,5,5,5,5,5,5,5,5,5,5,5,5,5,5,5,5,5,5,5,5,5,5,5,5,5,5,5,5,5,5,5,5,5,5,5,5,5,5,5,5,5,5,5,5,5,5,5,5,5,5,5,5,5,5,2,2,5,5,5,5,5,5,0,0,5,5,5,5,5,5,5,5,5,5,5,5,5,5,5,5,2,5,5,5,5,5,5,5,5,5,2,2,2,2,2,2,5,5,5,5,5,5,5,5,5,5,5,5,5,5,5,5,5,5,5,5,5,3,3,5,5,5,5,5,5,5,5,5,5,5,5,5,5,5,5,5,5,5,5,5,5,5,5,5,5,5,5,5,5,0,5,5,5,5,5,5,5,5,5,5,5,5,5,5,5,5,5,5,5,5,5,5,3,5,5,3,3,5,5,5,5,5,5,5,5,5,5,5,5,5,5,5,5,5,5,5,5,5,5,5,5,5,5,5,5,5,5,5,5,5,5,5,2,2,2,5,5,5,5,5,5,5,5,5,5,5,5,5,5,5,5,5,2,2,2,5,5,5,5,5,5,5,5,5,5,5,5,5,5,5,5,5,5,5,5,5,5,5,5,5,5,5,5,2,2,5,5,5,5,5,5,5,5,5,5,5,5,5,5,5,5,5,5,5,5,2,2,2,2,2,2,5,5,5,5,5,5,5,5,5,5,5,5,2,2,5,5,5,5,5,5,5,5,5,5,5,5,5,5,5,5,5,5,5,5,2,2,2,5,2,2,2,2,5,5,5,5,5,5,5,5,5,5,5,5,5,2,2,2,3,3,5,2,2,2,2,5,5,5,5,5,5,5,5,5,5,5,5,5,5,5,5,5,5,5,5,5,5,5,5,5,5,5,2,5,5,5,5,5,5,5,5,2,2,5,5,5,5,5,5,5,5,5,5,5,5,5,5,5,5,5,5,0,5,5,5,5,5,5,5,5,5,5,5,5,5,5,5,5,5,5,5,5,5,5,5,5,5,5,5,5,5,5,5,5,5,5,5,5,2,2,2,3,5,5,5,5,5,5,5,5,5,5,5,5,5,5,5,5,5,5,5,5,5,5,5,5,5,5,5,5,5,5,5,5,5,5,5,5,5,5,5,5,5,5,5,5,5,5,5,5,5,5,5,5,5,5,5,5,5,2,2,2,5,3,3,3,5,0,0,0,0,0,0,0,0,0,0,0,0],\"xaxis\":\"x\",\"yaxis\":\"y\",\"type\":\"histogram\"},{\"alignmentgroup\":\"True\",\"bingroup\":\"x\",\"hovertemplate\":\"Config=MachineB#Bouncer<br>malevolence_score=%{x}<br>count=%{y}<extra></extra>\",\"legendgroup\":\"MachineB#Bouncer\",\"marker\":{\"color\":\"#FFC343\",\"pattern\":{\"shape\":\"\"}},\"name\":\"MachineB#Bouncer\",\"offsetgroup\":\"MachineB#Bouncer\",\"orientation\":\"v\",\"showlegend\":true,\"x\":[5,0,0,0,0,5,2,5,3,3,5,5,5,5,5,5,5,2,2,2,2,2,5,3,3,3,3,5,3,2,0,5,2,5,5,0,5,2,5,0,0,0,0,2,2,2,2,2,5,4,4,5,5,5,5,5,5,5,5,3,5,2,2,2,2,5,5,3,3,2,2,0,3,5,5,5,5,5,2,5,5,5,0,2,2,2,2,5,0,3,5,2,2,2,2,5,5,5,5,2,2,2,2,2,2,2,2,2,2,2,2,2,2,2,2,5,5,0,0,5,2,5,2,2,5,5,5,3,5,5,2,5,5,5,5,5,3,4,4,4,4,2,2,2,2,5,2,2,2,2,2,5,3,2,2,2,3,0,0,5,3,2,2,2,2,0,0,5],\"xaxis\":\"x\",\"yaxis\":\"y\",\"type\":\"histogram\"}],                        {\"template\":{\"layout\":{\"colorway\":[\"#5D54B0\",\"#FFC343\",\"#C3BEF3\",\"#4C91C2\",\"#B90C85\",\"#FFD1E4\",\"#E21717\",\"#F17C4E\",\"#9E5C4F\",\"#3EBB3E\"],\"legend\":{\"xanchor\":\"right\",\"y\":0.99,\"yanchor\":\"top\"},\"margin\":{\"b\":60,\"l\":60,\"r\":60,\"t\":60},\"title\":{\"x\":0.5},\"xaxis\":{\"automargin\":true,\"showgrid\":false},\"yaxis\":{\"automargin\":true}}},\"xaxis\":{\"anchor\":\"y\",\"domain\":[0.0,1.0],\"title\":{\"text\":\"CTI rating score (0: unknown, 5: most reported)\"}},\"yaxis\":{\"anchor\":\"x\",\"domain\":[0.0,1.0],\"title\":{\"text\":\"Number of IPs reported\"}},\"legend\":{\"title\":{\"text\":\"Config\"},\"tracegroupgap\":0,\"font\":{\"size\":14},\"yanchor\":\"top\",\"y\":0.99,\"xanchor\":\"left\",\"x\":0.05},\"title\":{\"text\":\"CrowdSec CTI IP rating scores\"},\"barmode\":\"group\"},                        {\"responsive\": true}                    ).then(function(){\n",
       "                            \n",
       "var gd = document.getElementById('9d8a065b-2ff0-4680-8aa3-66fd3dc0892f');\n",
       "var x = new MutationObserver(function (mutations, observer) {{\n",
       "        var display = window.getComputedStyle(gd).display;\n",
       "        if (!display || display === 'none') {{\n",
       "            console.log([gd, 'removed!']);\n",
       "            Plotly.purge(gd);\n",
       "            observer.disconnect();\n",
       "        }}\n",
       "}});\n",
       "\n",
       "// Listen for the removal of the full notebook cells\n",
       "var notebookContainer = gd.closest('#notebook-container');\n",
       "if (notebookContainer) {{\n",
       "    x.observe(notebookContainer, {childList: true});\n",
       "}}\n",
       "\n",
       "// Listen for the clearing of the current output cell\n",
       "var outputEl = gd.closest('.output');\n",
       "if (outputEl) {{\n",
       "    x.observe(outputEl, {childList: true});\n",
       "}}\n",
       "\n",
       "                        })                };                });            </script>        </div>"
      ]
     },
     "metadata": {},
     "output_type": "display_data"
    }
   ],
   "source": [
    "title = \"CrowdSec CTI IP rating scores\"\n",
    "fig = (\n",
    "    px.histogram(\n",
    "        df,\n",
    "        \"malevolence_score\",\n",
    "        color=CONFIG_COL,\n",
    "        orientation='v',\n",
    "        barmode=\"group\",\n",
    "        title=title,\n",
    "    )\n",
    "    .update_layout(legend=dict(yanchor=\"top\",font=dict(size=14), y=0.99, xanchor=\"left\", x=0.05))\n",
    "    .update_xaxes(title=\"CTI rating score (0: unknown, 5: most reported)\")\n",
    "    .update_yaxes(title=\"Number of IPs reported\")\n",
    ")\n",
    "save_fig(fig, title)\n",
    "fig"
   ]
  },
  {
   "cell_type": "markdown",
   "id": "fe9bd0c9",
   "metadata": {},
   "source": [
    "## Scenario distribution and IP Score"
   ]
  },
  {
   "cell_type": "code",
   "execution_count": 14,
   "id": "b2bf2fc2",
   "metadata": {
    "ExecuteTime": {
     "end_time": "2022-03-10T10:57:48.741809Z",
     "start_time": "2022-03-10T10:57:48.201150Z"
    }
   },
   "outputs": [
    {
     "data": {
      "text/html": [
       "<div>                            <div id=\"f782281f-4f13-49c9-bf99-6cf72054560b\" class=\"plotly-graph-div\" style=\"height:525px; width:100%;\"></div>            <script type=\"text/javascript\">                require([\"plotly\"], function(Plotly) {                    window.PLOTLYENV=window.PLOTLYENV || {};                                    if (document.getElementById(\"f782281f-4f13-49c9-bf99-6cf72054560b\")) {                    Plotly.newPlot(                        \"f782281f-4f13-49c9-bf99-6cf72054560b\",                        [{\"domain\":{\"x\":[0.0,1.0],\"y\":[0.0,1.0]},\"hole\":0.5,\"hovertemplate\":\"malevolence_score=%{label}<extra></extra>\",\"labels\":[5,5,5,5,5,5,5,5,5,5,5,5,5,5,5,5,5,5,5,5,5,5,5,5,5,5,5,5,5,5,5,5,5,5,5,5,5,5,5,5,5,5,5,5,5,5,5,5,5,5,5,5,5,2,5,5,5,5,5,5,5,5,5,3,3,5,5,5,5,5,5,5,5,5,5,5,5,5,2,5,5,5,5,5,5,5,5,5,5,5,5,5,5,5,5,5,5,5,5,5,5,5,5,5,5,5,5,5,5,5,5,5,5,5,5,5,5,5,5,5,5,5,5,5,5,5,5,5,5,5,5,5,5,5,5,5,3,5,5,5,5,5,5,5,5,5,5,5,5,5,5,5,5,5,5,5,5,5,5,5,5,5,5,5,5,5,5,5,5,5,5,5,5,5,5,5,5,5,5,5,5,5,5,5,5,5,5,5,5,5,5,5,5,5,5,5,5,5,5,5,5,5,5,5,5,5,5,5,5,2,5,5,5,5,5,5,5,5,5,5,5,5,5,5,5,5,5,5,5,5,5,5,5,5,5,5,5,5,5,5,5,5,5,5,5,5,5,5,5,5,5,5,5,5,5,5,5,5,5,5,5,5,5,5,5,5,5,5,5,5,5,5,2,2,2,5,5,5,5,5,5,5,5,5,5,5,5,5,5,5,5,5,5,5,5,5,5,5,5,5,5,5,5,5,5,5,5,5,5,5,5,5,5,5,5,5,5,5,5,5,5,5,5,5,5,5,5,5,5,5,5,5,5,5,5,5,5,5,5,5,5,5,5,5,2,5,5,5,5,5,5,5,5,5,5,5,5,5,5,5,5,3,5,5,0,5,5,5,5,5,5,5,5,5,5,5,5,5,5,5,5,5,5,5,5,2,5,5,5,5,5,5,5,5,5,5,5,5,5,5,5,5,5,5,5,5,5,5,5,5,5,5,5,5,5,5,5,5,5,5,5,5,5,5,5,5,5,5,5,5,5,5,5,5,5,5,5,5,5,5,5,5,5,5,5,5,5,5,5,5,5,5,5,5,5,5,5,5,5,5,5,5,5,5,5,5,5,5,5,5,5,5,5,5,5,5,5,5,5,5,5,5,5,5,5,5,5,5,5,5,5,5,5,5,5,5,5,5,5,5,5,5,5,5,5,5,5,5,5,5,5,5,5,5,5,5,5,5,5,5,5,5,5,5,5,5,5,5,5,5,5,5,5,5,5,5,5,5,5,5,5,5,5,5,5,5,5,5,5,5,5,5,5,5,5,5,5,5,5,5,5,5,5,5,5,5,5,5,5,5,5,5,5,5,5,5,5,5,5,5,5,5,5,5,5,5,5,5,5,5,5,5,5,5,5,5,5,5,5,5,5,5,5,5,5,5,5,5,5,5,5,5,5,5,5,5,5,5,5,5,5,5,5,5,5,5,5,5,5,5,5,5,5,5,5,5,5,5,5,5,5,5,5,5,5,5,5,5,5,5,5,5,5,5,5,5,5,5,5,5,5,5,5,5,5,5,5,5,5,5,5,5,5,5,5,5,5,5,5,5,2,5,5,5,5,5,3,3,5,5,5,5,5,5,5,5,5,5,5,5,5,5,5,5,5,5,5,5,5,5,5,5,5,5,5,5,5,5,5,5,5,5,5,5,5,5,5,5,5,5,5,5,5,5,5,5,5,5,5,5,5,5,5,5,5,5,5,5,5,5,5,5,5,5,5,5,5,5,5,5,5,5,5,5,5,5,5,5,5,5,5,5,5,5,5,5,5,5,5,5,5,5,5,5,5,5,5,5,5,5,5,5,5,5,5,5,5,5,5,5,5,5,5,5,5,5,5,5,5,5,5,5,5,5,5,5,5,5,5,5,5,5,5,5,5,5,5,5,5,5,5,5,5,5,5,5,5,5,5,5,5,5,5,5,5,5,5,5,5,5,5,5,5,5,5,5,5,5,5,5,5,5,5,5,5,5,5,5,5,5,5,5,5,5,5,5,5,0,5,5,5,5,5,5,5,5,5,5,5,5,5,5,5,5,5,5,5,5,5,5,5,5,5,5,5,5,5,5,5,5,5,5,5,5,5,5,5,5,5,2,2,2,5,5,5,5,5,5,5,5,5,5,5,5,5,5,5,5,5,5,3,5,5,5,5,5,5,5,5,5,5,5,5,5,5,5,5,5,5,5,5,5,5,5,5,5,5,5,5,5,5,5,5,5,5,5,5,5,5,5,5,5,5,5,5,5,2,2,2,5,5,5,5,5,5,5,5,5,5,5,5,5,5,5,5,5,5,5,5,5,5,5,5,5,5,5,5,5,5,5,5,5,5,5,5,5,5,5,5,5,5,5,5,5,5,5,5,5,5,5,5,5,5,5,5,5,5,5,5,5,5,5,5,5,5,5,5,5,5,5,5,5,5,5,5,5,5,5,5,5,5,5,5,5,5,5,5,5,5,5,5,5,5,5,5,5,5,5,5,5,5,5,5,5,5,5,5,5,5,5,5,5,5,5,5,5,5,5,5,5,5,5,5,5,5,5,5,5,5,5,5,5,5,5,5,5,5,5,5,5,5,5,5,5,5,5,5,5,5,5,5,5,5,5,5,5,3,5,5,5,5,5,5,5,5,5,5,5,5,3,5,5,5,5,5,5,5,5,5,5,5,5,5,5,5,5,5,5,5,5,5,5,5,5,5,5,5,5,5,5,5,5,5,5,5,5,5,5,5,5,5,5,5,5,5,5,5,5,5,5,5,5,5,5,5,5,5,5,5,5,5,5,5,5,5,5,5,2,5,5,5,2,5,5,5,5,5,5,5,5,5,5,5,5,5,5,5,5,5,5,5,2,2,5,5,5,5,5,5,5,5,5,5,5,5,5,4,2,5,2,4,4,4,2,5,2,5,5,5,5,4,4,5,5,4,5,4,5,5,5,5,4,5,5,4,2,4,4,2,5,4,5,5,5,5,5,5,5,5,5,5,5,5,5,5,5,5,5,5,5,5,5,5,5,5,5,5,5,5,5,5,5,5,5,5,5,5,5,5,5,5,5,5,5,5,5,5,5,5,5,5,5,5,5,5,5,5,5,5,5,5,5,5,5,5,5,5,5,5,5,5,5,5,5,5,5,5,5,5,5,5,5,5,5,5,5,2,2,2,2,5,5,5,5,5,5,5,5,5,5,5,5,5,5,5,5,5,5,5,5,5,5,5,5,5,5,5,5,5,5,5,5,5,5,5,5,5,5,5,5,5,5,5,5,5,5,5,5,5,5,5,5,5,5,5,5,5,5,5,5,5,5,5,5,5,5,5,5,5,5,5,5,5,5,5,5,5,5,5,5,5,5,5,5,5,5,5,5,5,5,5,5,5,5,5,5,5,5,5,5,5,5,5,5,5,5,5,2,2,5,5,5,5,5,5,0,0,5,5,5,5,5,5,5,5,5,5,5,5,5,5,5,5,2,5,5,5,5,5,5,5,5,5,2,2,2,2,2,2,5,5,5,5,5,5,5,5,5,5,5,5,5,5,5,5,5,5,5,5,5,3,3,5,5,5,5,5,5,5,5,5,5,5,5,5,5,5,5,5,5,5,5,5,5,5,5,5,5,5,5,5,5,0,5,5,5,5,5,5,5,5,5,5,5,5,5,5,5,5,5,5,5,5,5,5,3,5,5,3,3,5,5,5,5,5,5,5,5,5,5,5,5,5,5,5,5,5,5,5,5,5,5,5,5,5,5,5,5,5,5,5,5,5,5,5,2,2,2,5,5,5,5,5,5,5,5,5,5,5,5,5,5,5,5,5,2,2,2,5,5,5,5,5,5,5,5,5,5,5,5,5,5,5,5,5,5,5,5,5,5,5,5,5,5,5,5,2,2,5,5,5,5,5,5,5,5,5,5,5,5,5,5,5,5,5,5,5,5,2,2,2,2,2,2,5,5,5,5,5,5,5,5,5,5,5,5,2,2,5,5,5,5,5,5,5,5,5,5,5,5,5,5,5,5,5,5,5,5,2,2,2,5,2,2,2,2,5,5,5,5,5,5,5,5,5,5,5,5,5,2,2,2,3,3,5,2,2,2,2,5,5,5,5,5,5,5,5,5,5,5,5,5,5,5,5,5,5,5,5,5,5,5,5,5,5,5,2,5,5,5,5,5,5,5,5,2,2,5,5,5,5,5,5,5,5,5,5,5,5,5,5,5,5,5,5,0,5,5,5,5,5,5,5,5,5,5,5,5,5,5,5,5,5,5,5,5,5,5,5,5,5,5,5,5,5,5,5,5,5,5,5,5,2,2,2,3,5,5,5,5,5,5,5,5,5,5,5,5,5,5,5,5,5,5,5,5,5,5,5,5,5,5,5,5,5,5,5,5,5,5,5,5,5,5,5,5,5,5,5,5,5,5,5,5,5,5,5,5,5,5,5,5,5,2,2,2,5,3,3,3,5,0,0,0,0,0,0,0,0,0,0,0,0],\"legendgroup\":\"\",\"name\":\"\",\"showlegend\":true,\"type\":\"pie\"}],                        {\"template\":{\"layout\":{\"colorway\":[\"#5D54B0\",\"#FFC343\",\"#C3BEF3\",\"#4C91C2\",\"#B90C85\",\"#FFD1E4\",\"#E21717\",\"#F17C4E\",\"#9E5C4F\",\"#3EBB3E\"],\"legend\":{\"xanchor\":\"right\",\"y\":0.99,\"yanchor\":\"top\"},\"margin\":{\"b\":60,\"l\":60,\"r\":60,\"t\":60},\"title\":{\"x\":0.5},\"xaxis\":{\"automargin\":true,\"showgrid\":false},\"yaxis\":{\"automargin\":true}}},\"legend\":{\"tracegroupgap\":0},\"title\":{\"text\":\"Malevolence Score Distribution - MachineA#NoBouncer\"}},                        {\"responsive\": true}                    ).then(function(){\n",
       "                            \n",
       "var gd = document.getElementById('f782281f-4f13-49c9-bf99-6cf72054560b');\n",
       "var x = new MutationObserver(function (mutations, observer) {{\n",
       "        var display = window.getComputedStyle(gd).display;\n",
       "        if (!display || display === 'none') {{\n",
       "            console.log([gd, 'removed!']);\n",
       "            Plotly.purge(gd);\n",
       "            observer.disconnect();\n",
       "        }}\n",
       "}});\n",
       "\n",
       "// Listen for the removal of the full notebook cells\n",
       "var notebookContainer = gd.closest('#notebook-container');\n",
       "if (notebookContainer) {{\n",
       "    x.observe(notebookContainer, {childList: true});\n",
       "}}\n",
       "\n",
       "// Listen for the clearing of the current output cell\n",
       "var outputEl = gd.closest('.output');\n",
       "if (outputEl) {{\n",
       "    x.observe(outputEl, {childList: true});\n",
       "}}\n",
       "\n",
       "                        })                };                });            </script>        </div>"
      ]
     },
     "metadata": {},
     "output_type": "display_data"
    },
    {
     "data": {
      "text/html": [
       "<div>                            <div id=\"f7b2a661-bebe-4d22-980d-f0279506d127\" class=\"plotly-graph-div\" style=\"height:525px; width:100%;\"></div>            <script type=\"text/javascript\">                require([\"plotly\"], function(Plotly) {                    window.PLOTLYENV=window.PLOTLYENV || {};                                    if (document.getElementById(\"f7b2a661-bebe-4d22-980d-f0279506d127\")) {                    Plotly.newPlot(                        \"f7b2a661-bebe-4d22-980d-f0279506d127\",                        [{\"domain\":{\"x\":[0.0,1.0],\"y\":[0.0,1.0]},\"hole\":0.5,\"hovertemplate\":\"scenario_category=%{label}<extra></extra>\",\"labels\":[\"Bruteforce\",\"Bruteforce\",\"Bruteforce\",\"Bruteforce\",\"Bruteforce\",\"Bruteforce\",\"Bruteforce\",\"Bruteforce\",\"Bruteforce\",\"Bruteforce\",\"Bruteforce\",\"Bruteforce\",\"Bruteforce\",\"Bruteforce\",\"Bruteforce\",\"Bruteforce\",\"Bruteforce\",\"Bruteforce\",\"Bruteforce\",\"Bruteforce\",\"Bruteforce\",\"Bruteforce\",\"Bruteforce\",\"Bruteforce\",\"Bruteforce\",\"Bruteforce\",\"Bruteforce\",\"Bruteforce\",\"Bruteforce\",\"Bruteforce\",\"Bruteforce\",\"Bruteforce\",\"Bruteforce\",\"Bruteforce\",\"Bruteforce\",\"Bruteforce\",\"Bruteforce\",\"Bruteforce\",\"Exploit\",\"Exploit\",\"Scanner\",\"Scanner\",\"Scanner\",\"Exploit\",\"Scanner\",\"Bruteforce\",\"Bruteforce\",\"Bruteforce\",\"Bruteforce\",\"Exploit\",\"Exploit\",\"Exploit\",\"Exploit\",\"Scanner\",\"Exploit\",\"Bruteforce\",\"Bruteforce\",\"Bruteforce\",\"Bruteforce\",\"Bruteforce\",\"Bruteforce\",\"Bruteforce\",\"Scanner\",\"Scanner\",\"Scanner\",\"Exploit\",\"Exploit\",\"Exploit\",\"Scanner\",\"Scanner\",\"Exploit\",\"Exploit\",\"Exploit\",\"Scanner\",\"Scanner\",\"Scanner\",\"Scanner\",\"Scanner\",\"Bruteforce\",\"Exploit\",\"Scanner\",\"Scanner\",\"Exploit\",\"Bruteforce\",\"Bruteforce\",\"Bruteforce\",\"Bruteforce\",\"Bruteforce\",\"Bruteforce\",\"Bruteforce\",\"Bruteforce\",\"Bruteforce\",\"Bruteforce\",\"Bruteforce\",\"Scanner\",\"Scanner\",\"Scanner\",\"Bruteforce\",\"Bruteforce\",\"Bruteforce\",\"Bruteforce\",\"Scanner\",\"Scanner\",\"Scanner\",\"Bruteforce\",\"Bruteforce\",\"Bruteforce\",\"Bruteforce\",\"Bruteforce\",\"Bruteforce\",\"Bruteforce\",\"Bruteforce\",\"Bruteforce\",\"Bruteforce\",\"Bruteforce\",\"Bruteforce\",\"Bruteforce\",\"Bruteforce\",\"Bruteforce\",\"Exploit\",\"Scanner\",\"Exploit\",\"Bruteforce\",\"Bruteforce\",\"Bruteforce\",\"Bruteforce\",\"Exploit\",\"Exploit\",\"Scanner\",\"Scanner\",\"Scanner\",\"Bruteforce\",\"Bruteforce\",\"Exploit\",\"Bruteforce\",\"Bruteforce\",\"Scanner\",\"Bruteforce\",\"Bruteforce\",\"Bruteforce\",\"Bruteforce\",\"Bruteforce\",\"Bruteforce\",\"Bruteforce\",\"Bruteforce\",\"Bruteforce\",\"Bruteforce\",\"Scanner\",\"Scanner\",\"Scanner\",\"Bruteforce\",\"Bruteforce\",\"Bruteforce\",\"Bruteforce\",\"Bruteforce\",\"Bruteforce\",\"Bruteforce\",\"Bruteforce\",\"Bruteforce\",\"Bruteforce\",\"Bruteforce\",\"Bruteforce\",\"Scanner\",\"Scanner\",\"Scanner\",\"Exploit\",\"Scanner\",\"Scanner\",\"Scanner\",\"Scanner\",\"Scanner\",\"Scanner\",\"Bruteforce\",\"Bruteforce\",\"Bruteforce\",\"Bruteforce\",\"Bruteforce\",\"Bruteforce\",\"Bruteforce\",\"Bruteforce\",\"Bruteforce\",\"Bruteforce\",\"Bruteforce\",\"Bruteforce\",\"Bruteforce\",\"Bruteforce\",\"Bruteforce\",\"Scanner\",\"Scanner\",\"Scanner\",\"Bruteforce\",\"Bruteforce\",\"Bruteforce\",\"Bruteforce\",\"Exploit\",\"Bruteforce\",\"Bruteforce\",\"Bruteforce\",\"Bruteforce\",\"Bruteforce\",\"Bruteforce\",\"Bruteforce\",\"Bruteforce\",\"Bruteforce\",\"Bruteforce\",\"Bruteforce\",\"Bruteforce\",\"Bruteforce\",\"Bruteforce\",\"Scanner\",\"Bruteforce\",\"Bruteforce\",\"Exploit\",\"Scanner\",\"Exploit\",\"Scanner\",\"Scanner\",\"Scanner\",\"Scanner\",\"Bruteforce\",\"Bruteforce\",\"Bruteforce\",\"Bruteforce\",\"Bruteforce\",\"Bruteforce\",\"Bruteforce\",\"Bruteforce\",\"Bruteforce\",\"Bruteforce\",\"Bruteforce\",\"Bruteforce\",\"Bruteforce\",\"Bruteforce\",\"Bruteforce\",\"Bruteforce\",\"Bruteforce\",\"Bruteforce\",\"Bruteforce\",\"Bruteforce\",\"Bruteforce\",\"Bruteforce\",\"Bruteforce\",\"Bruteforce\",\"Bruteforce\",\"Bruteforce\",\"Bruteforce\",\"Bruteforce\",\"Bruteforce\",\"Bruteforce\",\"Bruteforce\",\"Bruteforce\",\"Bruteforce\",\"Bruteforce\",\"Bruteforce\",\"Bruteforce\",\"Bruteforce\",\"Bruteforce\",\"Bruteforce\",\"Bruteforce\",\"Bruteforce\",\"Bruteforce\",\"Bruteforce\",\"Bruteforce\",\"Bruteforce\",\"Bruteforce\",\"Bruteforce\",\"Bruteforce\",\"Exploit\",\"Scanner\",\"Exploit\",\"Scanner\",\"Exploit\",\"Bruteforce\",\"Bruteforce\",\"Bruteforce\",\"Scanner\",\"Exploit\",\"Bruteforce\",\"Bruteforce\",\"Bruteforce\",\"Bruteforce\",\"Bruteforce\",\"Bruteforce\",\"Bruteforce\",\"Bruteforce\",\"Bruteforce\",\"Bruteforce\",\"Bruteforce\",\"Bruteforce\",\"Bruteforce\",\"Bruteforce\",\"Bruteforce\",\"Bruteforce\",\"Bruteforce\",\"Bruteforce\",\"Bruteforce\",\"Bruteforce\",\"Bruteforce\",\"Bruteforce\",\"Bruteforce\",\"Bruteforce\",\"Bruteforce\",\"Bruteforce\",\"Bruteforce\",\"Bruteforce\",\"Bruteforce\",\"Bruteforce\",\"Bruteforce\",\"Bruteforce\",\"Bruteforce\",\"Bruteforce\",\"Bruteforce\",\"Bruteforce\",\"Bruteforce\",\"Bruteforce\",\"Bruteforce\",\"Bruteforce\",\"Bruteforce\",\"Bruteforce\",\"Bruteforce\",\"Bruteforce\",\"Bruteforce\",\"Bruteforce\",\"Bruteforce\",\"Bruteforce\",\"Bruteforce\",\"Bruteforce\",\"Bruteforce\",\"Bruteforce\",\"Bruteforce\",\"Bruteforce\",\"Bruteforce\",\"Bruteforce\",\"Bruteforce\",\"Bruteforce\",\"Bruteforce\",\"Bruteforce\",\"Bruteforce\",\"Exploit\",\"Scanner\",\"Bruteforce\",\"Bruteforce\",\"Bruteforce\",\"Scanner\",\"Scanner\",\"Scanner\",\"Scanner\",\"Exploit\",\"Bruteforce\",\"Bruteforce\",\"Bruteforce\",\"Bruteforce\",\"Bruteforce\",\"Bruteforce\",\"Bruteforce\",\"Bruteforce\",\"Bruteforce\",\"Bruteforce\",\"Scanner\",\"Exploit\",\"Bruteforce\",\"Scanner\",\"Exploit\",\"Scanner\",\"Scanner\",\"Bruteforce\",\"Bruteforce\",\"Bruteforce\",\"Bruteforce\",\"Bruteforce\",\"Bruteforce\",\"Bruteforce\",\"Bruteforce\",\"Bruteforce\",\"Bruteforce\",\"Bruteforce\",\"Bruteforce\",\"Bruteforce\",\"Bruteforce\",\"Bruteforce\",\"Bruteforce\",\"Bruteforce\",\"Bruteforce\",\"Bruteforce\",\"Bruteforce\",\"Scanner\",\"Scanner\",\"Bruteforce\",\"Bruteforce\",\"Bruteforce\",\"Bruteforce\",\"Exploit\",\"Bruteforce\",\"Bruteforce\",\"Bruteforce\",\"Bruteforce\",\"Bruteforce\",\"Bruteforce\",\"Bruteforce\",\"Bruteforce\",\"Bruteforce\",\"Bruteforce\",\"Bruteforce\",\"Bruteforce\",\"Bruteforce\",\"Bruteforce\",\"Bruteforce\",\"Bruteforce\",\"Bruteforce\",\"Bruteforce\",\"Scanner\",\"Scanner\",\"Bruteforce\",\"Bruteforce\",\"Bruteforce\",\"Bruteforce\",\"Bruteforce\",\"Exploit\",\"Bruteforce\",\"Bruteforce\",\"Bruteforce\",\"Bruteforce\",\"Exploit\",\"Bruteforce\",\"Bruteforce\",\"Exploit\",\"Scanner\",\"Bruteforce\",\"Bruteforce\",\"Bruteforce\",\"Exploit\",\"Bruteforce\",\"Bruteforce\",\"Bruteforce\",\"Bruteforce\",\"Bruteforce\",\"Bruteforce\",\"Bruteforce\",\"Bruteforce\",\"Bruteforce\",\"Bruteforce\",\"Bruteforce\",\"Bruteforce\",\"Bruteforce\",\"Bruteforce\",\"Bruteforce\",\"Bruteforce\",\"Bruteforce\",\"Bruteforce\",\"Bruteforce\",\"Exploit\",\"Bruteforce\",\"Bruteforce\",\"Bruteforce\",\"Bruteforce\",\"Bruteforce\",\"Bruteforce\",\"Bruteforce\",\"Bruteforce\",\"Bruteforce\",\"Bruteforce\",\"Bruteforce\",\"Bruteforce\",\"Bruteforce\",\"Scanner\",\"Scanner\",\"Scanner\",\"Bruteforce\",\"Bruteforce\",\"Bruteforce\",\"Bruteforce\",\"Bruteforce\",\"Bruteforce\",\"Bruteforce\",\"Bruteforce\",\"Bruteforce\",\"Bruteforce\",\"Bruteforce\",\"Bruteforce\",\"Bruteforce\",\"Bruteforce\",\"Bruteforce\",\"Bruteforce\",\"Bruteforce\",\"Bruteforce\",\"Scanner\",\"Bruteforce\",\"Bruteforce\",\"Bruteforce\",\"Bruteforce\",\"Scanner\",\"Exploit\",\"Scanner\",\"Scanner\",\"Scanner\",\"Exploit\",\"Bruteforce\",\"Bruteforce\",\"Bruteforce\",\"Bruteforce\",\"Bruteforce\",\"Scanner\",\"Scanner\",\"Bruteforce\",\"Bruteforce\",\"Bruteforce\",\"Bruteforce\",\"Bruteforce\",\"Bruteforce\",\"Bruteforce\",\"Bruteforce\",\"Bruteforce\",\"Bruteforce\",\"Bruteforce\",\"Bruteforce\",\"Bruteforce\",\"Bruteforce\",\"Bruteforce\",\"Bruteforce\",\"Bruteforce\",\"Bruteforce\",\"Bruteforce\",\"Exploit\",\"Bruteforce\",\"Bruteforce\",\"Bruteforce\",\"Bruteforce\",\"Bruteforce\",\"Bruteforce\",\"Bruteforce\",\"Bruteforce\",\"Bruteforce\",\"Bruteforce\",\"Bruteforce\",\"Bruteforce\",\"Bruteforce\",\"Bruteforce\",\"Bruteforce\",\"Scanner\",\"Bruteforce\",\"Bruteforce\",\"Bruteforce\",\"Bruteforce\",\"Bruteforce\",\"Exploit\",\"Scanner\",\"Scanner\",\"Bruteforce\",\"Bruteforce\",\"Bruteforce\",\"Bruteforce\",\"Bruteforce\",\"Bruteforce\",\"Bruteforce\",\"Bruteforce\",\"Bruteforce\",\"Bruteforce\",\"Bruteforce\",\"Bruteforce\",\"Bruteforce\",\"Bruteforce\",\"Bruteforce\",\"Bruteforce\",\"Bruteforce\",\"Bruteforce\",\"Bruteforce\",\"Scanner\",\"Bruteforce\",\"Bruteforce\",\"Bruteforce\",\"Bruteforce\",\"Exploit\",\"Bruteforce\",\"Bruteforce\",\"Bruteforce\",\"Bruteforce\",\"Bruteforce\",\"Bruteforce\",\"Bruteforce\",\"Bruteforce\",\"Bruteforce\",\"Bruteforce\",\"Bruteforce\",\"Bruteforce\",\"Bruteforce\",\"Scanner\",\"Scanner\",\"Bruteforce\",\"Bruteforce\",\"Bruteforce\",\"Bruteforce\",\"Bruteforce\",\"Bruteforce\",\"Bruteforce\",\"Bruteforce\",\"Bruteforce\",\"Bruteforce\",\"Bruteforce\",\"Bruteforce\",\"Bruteforce\",\"Bruteforce\",\"Bruteforce\",\"Bruteforce\",\"Bruteforce\",\"Bruteforce\",\"Bruteforce\",\"Bruteforce\",\"Bruteforce\",\"Bruteforce\",\"Bruteforce\",\"Bruteforce\",\"Bruteforce\",\"Bruteforce\",\"Bruteforce\",\"Bruteforce\",\"Bruteforce\",\"Bruteforce\",\"Bruteforce\",\"Bruteforce\",\"Bruteforce\",\"Bruteforce\",\"Bruteforce\",\"Bruteforce\",\"Scanner\",\"Exploit\",\"Scanner\",\"Bruteforce\",\"Bruteforce\",\"Bruteforce\",\"Bruteforce\",\"Bruteforce\",\"Bruteforce\",\"Bruteforce\",\"Bruteforce\",\"Bruteforce\",\"Bruteforce\",\"Bruteforce\",\"Bruteforce\",\"Bruteforce\",\"Bruteforce\",\"Bruteforce\",\"Bruteforce\",\"Bruteforce\",\"Bruteforce\",\"Bruteforce\",\"Bruteforce\",\"Bruteforce\",\"Bruteforce\",\"Bruteforce\",\"Bruteforce\",\"Bruteforce\",\"Bruteforce\",\"Bruteforce\",\"Bruteforce\",\"Scanner\",\"Bruteforce\",\"Bruteforce\",\"Bruteforce\",\"Bruteforce\",\"Bruteforce\",\"Bruteforce\",\"Bruteforce\",\"Scanner\",\"Scanner\",\"Scanner\",\"Bruteforce\",\"Bruteforce\",\"Bruteforce\",\"Bruteforce\",\"Exploit\",\"Bruteforce\",\"Bruteforce\",\"Bruteforce\",\"Bruteforce\",\"Exploit\",\"Bruteforce\",\"Bruteforce\",\"Bruteforce\",\"Exploit\",\"Exploit\",\"Scanner\",\"Scanner\",\"Bruteforce\",\"Bruteforce\",\"Bruteforce\",\"Bruteforce\",\"Scanner\",\"Exploit\",\"Bruteforce\",\"Bruteforce\",\"Bruteforce\",\"Bruteforce\",\"Bruteforce\",\"Bruteforce\",\"Bruteforce\",\"Bruteforce\",\"Bruteforce\",\"Bruteforce\",\"Bruteforce\",\"Bruteforce\",\"Bruteforce\",\"Bruteforce\",\"Bruteforce\",\"Bruteforce\",\"Bruteforce\",\"Bruteforce\",\"Bruteforce\",\"Bruteforce\",\"Bruteforce\",\"Bruteforce\",\"Bruteforce\",\"Bruteforce\",\"Bruteforce\",\"Bruteforce\",\"Bruteforce\",\"Bruteforce\",\"Bruteforce\",\"Bruteforce\",\"Exploit\",\"Scanner\",\"Scanner\",\"Scanner\",\"Exploit\",\"Exploit\",\"Scanner\",\"Bruteforce\",\"Bruteforce\",\"Bruteforce\",\"Bruteforce\",\"Scanner\",\"Scanner\",\"Scanner\",\"Bruteforce\",\"Bruteforce\",\"Bruteforce\",\"Bruteforce\",\"Bruteforce\",\"Bruteforce\",\"Bruteforce\",\"Bruteforce\",\"Bruteforce\",\"Bruteforce\",\"Bruteforce\",\"Bruteforce\",\"Bruteforce\",\"Bruteforce\",\"Bruteforce\",\"Exploit\",\"Scanner\",\"Bruteforce\",\"Bruteforce\",\"Scanner\",\"Scanner\",\"Scanner\",\"Exploit\",\"Bruteforce\",\"Bruteforce\",\"Bruteforce\",\"Bruteforce\",\"Bruteforce\",\"Bruteforce\",\"Bruteforce\",\"Bruteforce\",\"Bruteforce\",\"Bruteforce\",\"Bruteforce\",\"Bruteforce\",\"Bruteforce\",\"Bruteforce\",\"Bruteforce\",\"Bruteforce\",\"Bruteforce\",\"Bruteforce\",\"Bruteforce\",\"Bruteforce\",\"Bruteforce\",\"Bruteforce\",\"Bruteforce\",\"Bruteforce\",\"Bruteforce\",\"Bruteforce\",\"Bruteforce\",\"Bruteforce\",\"Bruteforce\",\"Bruteforce\",\"Bruteforce\",\"Bruteforce\",\"Bruteforce\",\"Bruteforce\",\"Bruteforce\",\"Bruteforce\",\"Bruteforce\",\"Bruteforce\",\"Bruteforce\",\"Bruteforce\",\"Bruteforce\",\"Bruteforce\",\"Bruteforce\",\"Bruteforce\",\"Bruteforce\",\"Bruteforce\",\"Bruteforce\",\"Bruteforce\",\"Bruteforce\",\"Exploit\",\"Bruteforce\",\"Bruteforce\",\"Bruteforce\",\"Bruteforce\",\"Exploit\",\"Exploit\",\"Scanner\",\"Scanner\",\"Bruteforce\",\"Bruteforce\",\"Bruteforce\",\"Bruteforce\",\"Bruteforce\",\"Bruteforce\",\"Bruteforce\",\"Bruteforce\",\"Bruteforce\",\"Bruteforce\",\"Bruteforce\",\"Bruteforce\",\"Bruteforce\",\"Bruteforce\",\"Bruteforce\",\"Bruteforce\",\"Bruteforce\",\"Bruteforce\",\"Bruteforce\",\"Bruteforce\",\"Bruteforce\",\"Bruteforce\",\"Bruteforce\",\"Bruteforce\",\"Bruteforce\",\"Bruteforce\",\"Bruteforce\",\"Bruteforce\",\"Bruteforce\",\"Bruteforce\",\"Bruteforce\",\"Bruteforce\",\"Bruteforce\",\"Bruteforce\",\"Bruteforce\",\"Bruteforce\",\"Bruteforce\",\"Bruteforce\",\"Bruteforce\",\"Bruteforce\",\"Bruteforce\",\"Bruteforce\",\"Bruteforce\",\"Bruteforce\",\"Bruteforce\",\"Bruteforce\",\"Bruteforce\",\"Bruteforce\",\"Bruteforce\",\"Bruteforce\",\"Bruteforce\",\"Bruteforce\",\"Bruteforce\",\"Bruteforce\",\"Bruteforce\",\"Bruteforce\",\"Bruteforce\",\"Bruteforce\",\"Bruteforce\",\"Bruteforce\",\"Bruteforce\",\"Bruteforce\",\"Bruteforce\",\"Bruteforce\",\"Scanner\",\"Bruteforce\",\"Bruteforce\",\"Bruteforce\",\"Bruteforce\",\"Bruteforce\",\"Bruteforce\",\"Bruteforce\",\"Bruteforce\",\"Bruteforce\",\"Bruteforce\",\"Bruteforce\",\"Bruteforce\",\"Bruteforce\",\"Bruteforce\",\"Bruteforce\",\"Bruteforce\",\"Bruteforce\",\"Bruteforce\",\"Bruteforce\",\"Bruteforce\",\"Bruteforce\",\"Bruteforce\",\"Bruteforce\",\"Bruteforce\",\"Exploit\",\"Bruteforce\",\"Bruteforce\",\"Bruteforce\",\"Bruteforce\",\"Bruteforce\",\"Bruteforce\",\"Bruteforce\",\"Bruteforce\",\"Bruteforce\",\"Bruteforce\",\"Bruteforce\",\"Bruteforce\",\"Bruteforce\",\"Bruteforce\",\"Bruteforce\",\"Scanner\",\"Bruteforce\",\"Bruteforce\",\"Bruteforce\",\"Scanner\",\"Bruteforce\",\"Bruteforce\",\"Bruteforce\",\"Bruteforce\",\"Bruteforce\",\"Bruteforce\",\"Bruteforce\",\"Bruteforce\",\"Bruteforce\",\"Bruteforce\",\"Bruteforce\",\"Bruteforce\",\"Bruteforce\",\"Bruteforce\",\"Bruteforce\",\"Exploit\",\"Exploit\",\"Scanner\",\"Bruteforce\",\"Bruteforce\",\"Bruteforce\",\"Bruteforce\",\"Bruteforce\",\"Bruteforce\",\"Bruteforce\",\"Bruteforce\",\"Bruteforce\",\"Bruteforce\",\"Bruteforce\",\"Scanner\",\"Bruteforce\",\"Bruteforce\",\"Bruteforce\",\"Bruteforce\",\"Bruteforce\",\"Bruteforce\",\"Bruteforce\",\"Bruteforce\",\"Bruteforce\",\"Bruteforce\",\"Exploit\",\"Scanner\",\"Scanner\",\"Scanner\",\"Scanner\",\"Bruteforce\",\"Bruteforce\",\"Bruteforce\",\"Bruteforce\",\"Scanner\",\"Bruteforce\",\"Bruteforce\",\"Exploit\",\"Exploit\",\"Bruteforce\",\"Bruteforce\",\"Bruteforce\",\"Bruteforce\",\"Scanner\",\"Bruteforce\",\"Bruteforce\",\"Bruteforce\",\"Scanner\",\"Bruteforce\",\"Bruteforce\",\"Bruteforce\",\"Exploit\",\"Scanner\",\"Scanner\",\"Exploit\",\"Scanner\",\"Scanner\",\"Scanner\",\"Exploit\",\"Bruteforce\",\"Bruteforce\",\"Bruteforce\",\"Bruteforce\",\"Bruteforce\",\"Bruteforce\",\"Bruteforce\",\"Bruteforce\",\"Bruteforce\",\"Bruteforce\",\"Bruteforce\",\"Bruteforce\",\"Bruteforce\",\"Bruteforce\",\"Bruteforce\",\"Bruteforce\",\"Bruteforce\",\"Bruteforce\",\"Bruteforce\",\"Bruteforce\",\"Bruteforce\",\"Bruteforce\",\"Scanner\",\"Bruteforce\",\"Bruteforce\",\"Bruteforce\",\"Bruteforce\",\"Exploit\",\"Bruteforce\",\"Bruteforce\",\"Scanner\",\"Bruteforce\",\"Bruteforce\",\"Bruteforce\",\"Bruteforce\",\"Bruteforce\",\"Bruteforce\",\"Bruteforce\",\"Bruteforce\",\"Bruteforce\",\"Bruteforce\",\"Bruteforce\",\"Bruteforce\",\"Bruteforce\",\"Bruteforce\",\"Bruteforce\",\"Bruteforce\",\"Bruteforce\",\"Bruteforce\",\"Bruteforce\",\"Bruteforce\",\"Bruteforce\",\"Bruteforce\",\"Bruteforce\",\"Bruteforce\",\"Bruteforce\",\"Bruteforce\",\"Bruteforce\",\"Bruteforce\",\"Exploit\",\"Scanner\",\"Bruteforce\",\"Bruteforce\",\"Bruteforce\",\"Bruteforce\",\"Bruteforce\",\"Bruteforce\",\"Bruteforce\",\"Bruteforce\",\"Bruteforce\",\"Bruteforce\",\"Bruteforce\",\"Bruteforce\",\"Bruteforce\",\"Bruteforce\",\"Bruteforce\",\"Scanner\",\"Exploit\",\"Exploit\",\"Scanner\",\"Scanner\",\"Bruteforce\",\"Bruteforce\",\"Bruteforce\",\"Bruteforce\",\"Bruteforce\",\"Bruteforce\",\"Bruteforce\",\"Bruteforce\",\"Bruteforce\",\"Bruteforce\",\"Bruteforce\",\"Bruteforce\",\"Bruteforce\",\"Bruteforce\",\"Bruteforce\",\"Bruteforce\",\"Bruteforce\",\"Bruteforce\",\"Bruteforce\",\"Bruteforce\",\"Scanner\",\"Bruteforce\",\"Bruteforce\",\"Bruteforce\",\"Bruteforce\",\"Bruteforce\",\"Bruteforce\",\"Bruteforce\",\"Bruteforce\",\"Bruteforce\",\"Bruteforce\",\"Bruteforce\",\"Bruteforce\",\"Bruteforce\",\"Bruteforce\",\"Bruteforce\",\"Bruteforce\",\"Bruteforce\",\"Bruteforce\",\"Scanner\",\"Scanner\",\"Bruteforce\",\"Bruteforce\",\"Bruteforce\",\"Bruteforce\",\"Bruteforce\",\"Bruteforce\",\"Bruteforce\",\"Bruteforce\",\"Exploit\",\"Bruteforce\",\"Bruteforce\",\"Bruteforce\",\"Bruteforce\",\"Bruteforce\",\"Bruteforce\",\"Exploit\",\"Exploit\",\"Scanner\",\"Scanner\",\"Exploit\",\"Exploit\",\"Bruteforce\",\"Bruteforce\",\"Bruteforce\",\"Bruteforce\",\"Exploit\",\"Exploit\",\"Scanner\",\"Bruteforce\",\"Exploit\",\"Bruteforce\",\"Bruteforce\",\"Bruteforce\",\"Bruteforce\",\"Exploit\",\"Scanner\",\"Scanner\",\"Scanner\",\"Scanner\",\"Exploit\",\"Scanner\",\"Exploit\",\"Bruteforce\",\"Bruteforce\",\"Bruteforce\",\"Bruteforce\",\"Exploit\",\"Bruteforce\",\"Bruteforce\",\"Bruteforce\",\"Exploit\",\"Scanner\",\"Bruteforce\",\"Bruteforce\",\"Bruteforce\",\"Bruteforce\",\"Exploit\",\"Exploit\",\"Scanner\",\"Bruteforce\",\"Bruteforce\",\"Bruteforce\",\"Bruteforce\",\"Scanner\",\"Bruteforce\",\"Bruteforce\",\"Bruteforce\",\"Bruteforce\",\"Bruteforce\",\"Bruteforce\",\"Bruteforce\",\"Bruteforce\",\"Bruteforce\",\"Bruteforce\",\"Bruteforce\",\"Bruteforce\",\"Bruteforce\",\"Bruteforce\",\"Bruteforce\",\"Bruteforce\",\"Scanner\",\"Bruteforce\",\"Bruteforce\",\"Scanner\",\"Bruteforce\",\"Bruteforce\",\"Exploit\",\"Exploit\",\"Bruteforce\",\"Bruteforce\",\"Bruteforce\",\"Bruteforce\",\"Bruteforce\",\"Bruteforce\",\"Bruteforce\",\"Bruteforce\",\"Bruteforce\",\"Bruteforce\",\"Bruteforce\",\"Bruteforce\",\"Bruteforce\",\"Bruteforce\",\"Bruteforce\",\"Bruteforce\",\"Bruteforce\",\"Bruteforce\",\"Bruteforce\",\"Bruteforce\",\"Exploit\",\"Scanner\",\"Exploit\",\"Scanner\",\"Scanner\",\"Bruteforce\",\"Bruteforce\",\"Bruteforce\",\"Bruteforce\",\"Bruteforce\",\"Bruteforce\",\"Bruteforce\",\"Bruteforce\",\"Bruteforce\",\"Bruteforce\",\"Bruteforce\",\"Bruteforce\",\"Bruteforce\",\"Bruteforce\",\"Bruteforce\",\"Scanner\",\"Crawler\",\"Scanner\",\"Exploit\",\"Bruteforce\",\"Bruteforce\",\"Exploit\",\"Scanner\",\"Scanner\",\"Exploit\",\"Bruteforce\",\"Bruteforce\",\"Bruteforce\",\"Bruteforce\",\"Bruteforce\",\"Bruteforce\",\"Bruteforce\",\"Bruteforce\",\"Bruteforce\",\"Bruteforce\",\"Bruteforce\",\"Bruteforce\",\"Bruteforce\",\"Bruteforce\",\"Bruteforce\",\"Bruteforce\",\"Bruteforce\",\"Bruteforce\",\"Bruteforce\",\"Bruteforce\",\"Bruteforce\",\"Bruteforce\",\"Bruteforce\",\"Bruteforce\",\"Bruteforce\",\"Bruteforce\",\"Bruteforce\",\"Bruteforce\",\"Bruteforce\",\"Bruteforce\",\"Bruteforce\",\"Bruteforce\",\"Bruteforce\",\"Bruteforce\",\"Bruteforce\",\"Bruteforce\",\"Bruteforce\",\"Bruteforce\",\"Bruteforce\",\"Bruteforce\",\"Bruteforce\",\"Bruteforce\",\"Bruteforce\",\"Bruteforce\",\"Bruteforce\",\"Bruteforce\",\"Scanner\",\"Bruteforce\",\"Bruteforce\",\"Bruteforce\",\"Bruteforce\",\"Exploit\",\"Exploit\",\"Exploit\",\"Scanner\",\"Bruteforce\",\"Bruteforce\",\"Bruteforce\",\"Bruteforce\",\"Exploit\",\"Scanner\",\"Exploit\",\"Bruteforce\",\"Bruteforce\",\"Bruteforce\",\"Bruteforce\",\"Bruteforce\",\"Bruteforce\",\"Bruteforce\",\"Bruteforce\",\"Bruteforce\",\"Bruteforce\",\"Bruteforce\",\"Bruteforce\",\"Bruteforce\",\"Bruteforce\",\"Bruteforce\",\"Bruteforce\",\"Bruteforce\",\"Bruteforce\",\"Bruteforce\",\"Bruteforce\",\"Exploit\",\"Bruteforce\",\"Bruteforce\",\"Bruteforce\",\"Bruteforce\",\"Bruteforce\",\"Bruteforce\",\"Bruteforce\",\"Bruteforce\",\"Bruteforce\",\"Bruteforce\",\"Bruteforce\",\"Bruteforce\",\"Bruteforce\",\"Bruteforce\",\"Bruteforce\",\"Bruteforce\",\"Bruteforce\",\"Bruteforce\",\"Bruteforce\",\"Bruteforce\",\"Bruteforce\",\"Bruteforce\",\"Bruteforce\",\"Bruteforce\",\"Bruteforce\",\"Bruteforce\",\"Bruteforce\",\"Bruteforce\",\"Bruteforce\",\"Bruteforce\",\"Bruteforce\",\"Bruteforce\",\"Bruteforce\",\"Bruteforce\",\"Bruteforce\",\"Exploit\",\"Bruteforce\",\"Bruteforce\",\"Bruteforce\",\"Bruteforce\",\"Scanner\",\"Bruteforce\",\"Bruteforce\",\"Bruteforce\",\"Bruteforce\",\"Exploit\",\"Bruteforce\",\"Bruteforce\",\"Bruteforce\",\"Bruteforce\",\"Exploit\",\"Bruteforce\",\"Bruteforce\",\"Bruteforce\",\"Bruteforce\",\"Scanner\",\"Scanner\",\"Scanner\",\"Exploit\",\"Exploit\",\"Exploit\",\"Scanner\",\"Scanner\",\"Scanner\",\"Scanner\",\"Bruteforce\",\"Bruteforce\",\"Bruteforce\",\"Bruteforce\",\"Bruteforce\",\"Bruteforce\",\"Bruteforce\",\"Scanner\",\"Bruteforce\",\"Bruteforce\",\"Bruteforce\",\"Bruteforce\",\"Exploit\",\"Bruteforce\",\"Bruteforce\",\"Bruteforce\",\"Bruteforce\",\"Bruteforce\",\"Bruteforce\",\"Bruteforce\",\"Bruteforce\",\"Bruteforce\",\"Bruteforce\",\"Bruteforce\",\"Bruteforce\",\"Bruteforce\",\"Exploit\",\"Scanner\",\"Scanner\",\"Scanner\",\"Bruteforce\",\"Bruteforce\",\"Bruteforce\",\"Bruteforce\",\"Bruteforce\",\"Bruteforce\",\"Bruteforce\",\"Bruteforce\",\"Bruteforce\",\"Bruteforce\",\"Bruteforce\",\"Bruteforce\",\"Bruteforce\",\"Exploit\",\"Bruteforce\",\"Bruteforce\",\"Bruteforce\",\"Bruteforce\",\"Bruteforce\",\"Crawler\",\"Scanner\",\"Exploit\",\"Bruteforce\",\"Bruteforce\",\"Bruteforce\",\"Bruteforce\",\"Exploit\",\"Scanner\",\"Scanner\",\"Exploit\",\"Scanner\",\"Bruteforce\",\"Bruteforce\",\"Bruteforce\",\"Bruteforce\",\"Bruteforce\",\"Bruteforce\",\"Bruteforce\",\"Bruteforce\",\"Bruteforce\",\"Bruteforce\",\"Bruteforce\",\"Bruteforce\",\"Bruteforce\",\"Bruteforce\",\"Bruteforce\",\"Bruteforce\",\"Bruteforce\",\"Bruteforce\",\"Bruteforce\",\"Bruteforce\",\"Bruteforce\",\"Scanner\",\"Bruteforce\",\"Bruteforce\",\"Bruteforce\",\"Bruteforce\",\"Scanner\",\"Exploit\",\"Scanner\",\"Exploit\",\"Exploit\",\"Bruteforce\",\"Bruteforce\",\"Bruteforce\",\"Bruteforce\",\"Bruteforce\",\"Bruteforce\",\"Bruteforce\",\"Bruteforce\",\"Scanner\",\"Scanner\",\"Scanner\",\"Exploit\",\"Scanner\",\"Bruteforce\",\"Bruteforce\",\"Bruteforce\",\"Bruteforce\",\"Bruteforce\",\"Bruteforce\",\"Bruteforce\",\"Bruteforce\",\"Bruteforce\",\"Bruteforce\",\"Bruteforce\",\"Exploit\",\"Scanner\",\"Exploit\",\"Bruteforce\",\"Bruteforce\",\"Bruteforce\",\"Bruteforce\",\"Exploit\",\"Bruteforce\",\"Bruteforce\",\"Bruteforce\",\"Bruteforce\",\"Bruteforce\",\"Bruteforce\",\"Bruteforce\",\"Bruteforce\",\"Bruteforce\",\"Bruteforce\",\"Scanner\",\"Exploit\",\"Scanner\",\"Exploit\",\"Scanner\",\"Scanner\",\"Exploit\",\"Bruteforce\",\"Bruteforce\",\"Bruteforce\",\"Bruteforce\",\"Scanner\",\"Exploit\",\"Bruteforce\",\"Bruteforce\",\"Bruteforce\",\"Bruteforce\",\"Bruteforce\",\"Bruteforce\",\"Bruteforce\",\"Bruteforce\",\"Scanner\",\"Scanner\",\"Scanner\",\"Exploit\",\"Exploit\",\"Exploit\",\"Scanner\",\"Scanner\",\"Scanner\",\"Bruteforce\",\"Bruteforce\",\"Exploit\",\"Bruteforce\",\"Bruteforce\",\"Bruteforce\",\"Scanner\",\"Exploit\",\"Exploit\",\"Bruteforce\",\"Bruteforce\",\"Bruteforce\",\"Scanner\",\"Scanner\",\"Scanner\",\"Exploit\",\"Scanner\",\"Bruteforce\",\"Bruteforce\",\"Bruteforce\",\"Bruteforce\",\"Bruteforce\",\"Bruteforce\",\"Scanner\",\"Scanner\",\"Bruteforce\",\"Bruteforce\",\"Bruteforce\",\"Bruteforce\",\"Bruteforce\",\"Scanner\",\"Exploit\",\"Bruteforce\",\"Bruteforce\",\"Bruteforce\",\"Bruteforce\",\"Bruteforce\",\"Bruteforce\",\"Bruteforce\",\"Bruteforce\",\"Bruteforce\",\"Bruteforce\",\"Exploit\",\"Bruteforce\",\"Bruteforce\",\"Bruteforce\",\"Scanner\",\"Scanner\",\"Scanner\",\"Scanner\",\"Scanner\",\"Bruteforce\",\"Bruteforce\",\"Bruteforce\",\"Bruteforce\",\"Bruteforce\",\"Bruteforce\",\"Bruteforce\",\"Bruteforce\",\"Bruteforce\",\"Bruteforce\",\"Bruteforce\",\"Bruteforce\",\"Bruteforce\",\"Bruteforce\",\"Bruteforce\",\"Bruteforce\",\"Bruteforce\",\"Scanner\",\"Scanner\",\"Scanner\",\"Bruteforce\",\"Bruteforce\",\"Bruteforce\",\"Bruteforce\",\"Bruteforce\",\"Bruteforce\",\"Bruteforce\",\"Bruteforce\",\"Bruteforce\",\"Bruteforce\",\"Bruteforce\",\"Bruteforce\",\"Bruteforce\",\"Scanner\",\"Scanner\",\"Bruteforce\",\"Bruteforce\",\"Bruteforce\",\"Scanner\",\"Exploit\",\"Bruteforce\",\"Bruteforce\",\"Scanner\",\"Scanner\",\"Scanner\",\"Scanner\",\"Bruteforce\",\"Bruteforce\",\"Bruteforce\",\"Bruteforce\",\"Bruteforce\",\"Bruteforce\",\"Bruteforce\",\"Bruteforce\",\"Bruteforce\",\"Bruteforce\",\"Bruteforce\",\"Bruteforce\",\"Scanner\",\"Scanner\",\"Bruteforce\",\"Bruteforce\",\"Bruteforce\",\"Bruteforce\",\"Bruteforce\",\"Bruteforce\",\"Bruteforce\",\"Bruteforce\",\"Bruteforce\",\"Bruteforce\",\"Bruteforce\",\"Bruteforce\",\"Bruteforce\",\"Bruteforce\",\"Bruteforce\",\"Bruteforce\",\"Bruteforce\",\"Scanner\",\"Bruteforce\",\"Bruteforce\",\"Bruteforce\",\"Bruteforce\",\"Scanner\",\"Bruteforce\",\"Bruteforce\",\"Bruteforce\",\"Bruteforce\",\"Bruteforce\",\"Bruteforce\",\"Bruteforce\",\"Bruteforce\",\"Bruteforce\",\"Bruteforce\",\"Bruteforce\",\"Bruteforce\",\"Bruteforce\",\"Bruteforce\",\"Bruteforce\",\"Bruteforce\",\"Bruteforce\",\"Bruteforce\",\"Bruteforce\",\"Bruteforce\",\"Bruteforce\",\"Bruteforce\",\"Bruteforce\",\"Bruteforce\",\"Bruteforce\",\"Bruteforce\",\"Bruteforce\",\"Bruteforce\",\"Bruteforce\",\"Bruteforce\",\"Bruteforce\",\"Bruteforce\",\"Bruteforce\",\"Bruteforce\",\"Bruteforce\",\"Bruteforce\",\"Bruteforce\",\"Bruteforce\",\"Bruteforce\",\"Bruteforce\",\"Bruteforce\",\"Bruteforce\",\"Bruteforce\",\"Bruteforce\",\"Bruteforce\",\"Bruteforce\",\"Bruteforce\",\"Bruteforce\",\"Bruteforce\",\"Bruteforce\",\"Bruteforce\",\"Bruteforce\",\"Bruteforce\",\"Exploit\",\"Bruteforce\",\"Bruteforce\",\"Bruteforce\",\"Bruteforce\",\"Bruteforce\",\"Bruteforce\",\"Bruteforce\",\"Bruteforce\",\"Bruteforce\",\"Bruteforce\",\"Scanner\",\"Bruteforce\",\"Bruteforce\",\"Bruteforce\",\"Exploit\",\"Bruteforce\",\"Bruteforce\",\"Bruteforce\",\"Exploit\",\"Scanner\",\"Bruteforce\",\"Bruteforce\",\"Bruteforce\",\"Bruteforce\",\"Bruteforce\",\"Exploit\",\"Exploit\",\"Bruteforce\",\"Bruteforce\",\"Bruteforce\",\"Bruteforce\",\"Bruteforce\",\"Bruteforce\",\"Bruteforce\",\"Bruteforce\",\"Scanner\",\"Scanner\",\"Exploit\",\"Scanner\",\"Bruteforce\",\"Bruteforce\",\"Bruteforce\",\"Bruteforce\",\"Bruteforce\",\"Bruteforce\",\"Bruteforce\",\"Exploit\",\"Scanner\",\"Exploit\",\"Scanner\",\"Bruteforce\",\"Bruteforce\",\"Bruteforce\",\"Bruteforce\",\"Bruteforce\",\"Bruteforce\",\"Bruteforce\",\"Bruteforce\",\"Bruteforce\",\"Bruteforce\",\"Bruteforce\",\"Bruteforce\",\"Bruteforce\",\"Bruteforce\",\"Bruteforce\",\"Bruteforce\",\"Bruteforce\",\"Bruteforce\",\"Exploit\",\"Exploit\",\"Exploit\",\"Exploit\",\"Bruteforce\",\"Bruteforce\",\"Bruteforce\",\"Bruteforce\",\"Scanner\",\"Scanner\",\"Scanner\",\"Scanner\",\"Scanner\",\"Bruteforce\",\"Bruteforce\",\"Exploit\",\"Bruteforce\",\"Bruteforce\",\"Bruteforce\",\"Bruteforce\",\"Scanner\",\"Exploit\",\"Bruteforce\",\"Bruteforce\",\"Bruteforce\",\"Bruteforce\",\"Bruteforce\",\"Bruteforce\",\"Bruteforce\",\"Scanner\",\"Scanner\",\"Bruteforce\",\"Bruteforce\",\"Bruteforce\",\"Scanner\",\"Bruteforce\",\"Bruteforce\",\"Bruteforce\",\"Bruteforce\",\"Bruteforce\",\"Bruteforce\",\"Bruteforce\",\"Bruteforce\",\"Bruteforce\",\"Bruteforce\",\"Bruteforce\",\"Bruteforce\",\"Bruteforce\",\"Bruteforce\",\"Bruteforce\",\"Bruteforce\",\"Bruteforce\",\"Bruteforce\",\"Bruteforce\",\"Bruteforce\",\"Bruteforce\",\"Bruteforce\",\"Bruteforce\",\"Bruteforce\",\"Bruteforce\",\"Bruteforce\",\"Bruteforce\",\"Bruteforce\",\"Exploit\",\"Exploit\",\"Exploit\",\"Exploit\",\"Bruteforce\",\"Bruteforce\",\"Bruteforce\",\"Scanner\",\"Bruteforce\",\"Bruteforce\",\"Bruteforce\",\"Bruteforce\",\"Bruteforce\",\"Bruteforce\",\"Bruteforce\",\"Bruteforce\",\"Bruteforce\",\"Bruteforce\",\"Bruteforce\",\"Bruteforce\",\"Bruteforce\",\"Bruteforce\",\"Bruteforce\",\"Bruteforce\",\"Bruteforce\",\"Bruteforce\",\"Bruteforce\",\"Exploit\",\"Bruteforce\",\"Bruteforce\",\"Bruteforce\",\"Bruteforce\",\"Bruteforce\",\"Bruteforce\",\"Bruteforce\",\"Bruteforce\",\"Bruteforce\",\"Bruteforce\",\"Bruteforce\",\"Bruteforce\",\"Bruteforce\",\"Bruteforce\",\"Bruteforce\",\"Bruteforce\",\"Bruteforce\",\"Bruteforce\",\"Bruteforce\",\"Bruteforce\",\"Bruteforce\",\"Bruteforce\",\"Bruteforce\",\"Bruteforce\",\"Bruteforce\",\"Bruteforce\",\"Bruteforce\",\"Bruteforce\",\"Bruteforce\",\"Bruteforce\",\"Bruteforce\",\"Bruteforce\",\"Bruteforce\",\"Scanner\",\"Exploit\",\"Exploit\",\"Exploit\",\"Bruteforce\",\"Bruteforce\",\"Bruteforce\",\"Exploit\",\"Bruteforce\",\"Bruteforce\",\"Bruteforce\",\"Exploit\",\"Bruteforce\",\"Bruteforce\",\"Bruteforce\",\"Bruteforce\",\"Bruteforce\",\"Bruteforce\",\"Bruteforce\",\"Bruteforce\",\"Bruteforce\",\"Bruteforce\",\"Bruteforce\",\"Bruteforce\"],\"legendgroup\":\"\",\"name\":\"\",\"showlegend\":true,\"type\":\"pie\"}],                        {\"template\":{\"layout\":{\"colorway\":[\"#5D54B0\",\"#FFC343\",\"#C3BEF3\",\"#4C91C2\",\"#B90C85\",\"#FFD1E4\",\"#E21717\",\"#F17C4E\",\"#9E5C4F\",\"#3EBB3E\"],\"legend\":{\"xanchor\":\"right\",\"y\":0.99,\"yanchor\":\"top\"},\"margin\":{\"b\":60,\"l\":60,\"r\":60,\"t\":60},\"title\":{\"x\":0.5},\"xaxis\":{\"automargin\":true,\"showgrid\":false},\"yaxis\":{\"automargin\":true}}},\"legend\":{\"tracegroupgap\":0},\"title\":{\"text\":\"Scenario Category Distribution - MachineA#NoBouncer\"}},                        {\"responsive\": true}                    ).then(function(){\n",
       "                            \n",
       "var gd = document.getElementById('f7b2a661-bebe-4d22-980d-f0279506d127');\n",
       "var x = new MutationObserver(function (mutations, observer) {{\n",
       "        var display = window.getComputedStyle(gd).display;\n",
       "        if (!display || display === 'none') {{\n",
       "            console.log([gd, 'removed!']);\n",
       "            Plotly.purge(gd);\n",
       "            observer.disconnect();\n",
       "        }}\n",
       "}});\n",
       "\n",
       "// Listen for the removal of the full notebook cells\n",
       "var notebookContainer = gd.closest('#notebook-container');\n",
       "if (notebookContainer) {{\n",
       "    x.observe(notebookContainer, {childList: true});\n",
       "}}\n",
       "\n",
       "// Listen for the clearing of the current output cell\n",
       "var outputEl = gd.closest('.output');\n",
       "if (outputEl) {{\n",
       "    x.observe(outputEl, {childList: true});\n",
       "}}\n",
       "\n",
       "                        })                };                });            </script>        </div>"
      ]
     },
     "metadata": {},
     "output_type": "display_data"
    },
    {
     "data": {
      "text/html": [
       "<div>                            <div id=\"db1b4b13-b461-431d-b461-082cca776f20\" class=\"plotly-graph-div\" style=\"height:525px; width:100%;\"></div>            <script type=\"text/javascript\">                require([\"plotly\"], function(Plotly) {                    window.PLOTLYENV=window.PLOTLYENV || {};                                    if (document.getElementById(\"db1b4b13-b461-431d-b461-082cca776f20\")) {                    Plotly.newPlot(                        \"db1b4b13-b461-431d-b461-082cca776f20\",                        [{\"domain\":{\"x\":[0.0,1.0],\"y\":[0.0,1.0]},\"hole\":0.5,\"hovertemplate\":\"malevolence_score=%{label}<extra></extra>\",\"labels\":[5,0,0,0,0,5,2,5,3,3,5,5,5,5,5,5,5,2,2,2,2,2,5,3,3,3,3,5,3,2,0,5,2,5,5,0,5,2,5,0,0,0,0,2,2,2,2,2,5,4,4,5,5,5,5,5,5,5,5,3,5,2,2,2,2,5,5,3,3,2,2,0,3,5,5,5,5,5,2,5,5,5,0,2,2,2,2,5,0,3,5,2,2,2,2,5,5,5,5,2,2,2,2,2,2,2,2,2,2,2,2,2,2,2,2,5,5,0,0,5,2,5,2,2,5,5,5,3,5,5,2,5,5,5,5,5,3,4,4,4,4,2,2,2,2,5,2,2,2,2,2,5,3,2,2,2,3,0,0,5,3,2,2,2,2,0,0,5],\"legendgroup\":\"\",\"name\":\"\",\"showlegend\":true,\"type\":\"pie\"}],                        {\"template\":{\"layout\":{\"colorway\":[\"#5D54B0\",\"#FFC343\",\"#C3BEF3\",\"#4C91C2\",\"#B90C85\",\"#FFD1E4\",\"#E21717\",\"#F17C4E\",\"#9E5C4F\",\"#3EBB3E\"],\"legend\":{\"xanchor\":\"right\",\"y\":0.99,\"yanchor\":\"top\"},\"margin\":{\"b\":60,\"l\":60,\"r\":60,\"t\":60},\"title\":{\"x\":0.5},\"xaxis\":{\"automargin\":true,\"showgrid\":false},\"yaxis\":{\"automargin\":true}}},\"legend\":{\"tracegroupgap\":0},\"title\":{\"text\":\"Malevolence Score Distribution - MachineB#Bouncer\"}},                        {\"responsive\": true}                    ).then(function(){\n",
       "                            \n",
       "var gd = document.getElementById('db1b4b13-b461-431d-b461-082cca776f20');\n",
       "var x = new MutationObserver(function (mutations, observer) {{\n",
       "        var display = window.getComputedStyle(gd).display;\n",
       "        if (!display || display === 'none') {{\n",
       "            console.log([gd, 'removed!']);\n",
       "            Plotly.purge(gd);\n",
       "            observer.disconnect();\n",
       "        }}\n",
       "}});\n",
       "\n",
       "// Listen for the removal of the full notebook cells\n",
       "var notebookContainer = gd.closest('#notebook-container');\n",
       "if (notebookContainer) {{\n",
       "    x.observe(notebookContainer, {childList: true});\n",
       "}}\n",
       "\n",
       "// Listen for the clearing of the current output cell\n",
       "var outputEl = gd.closest('.output');\n",
       "if (outputEl) {{\n",
       "    x.observe(outputEl, {childList: true});\n",
       "}}\n",
       "\n",
       "                        })                };                });            </script>        </div>"
      ]
     },
     "metadata": {},
     "output_type": "display_data"
    },
    {
     "data": {
      "text/html": [
       "<div>                            <div id=\"f1cf9c7f-5897-449a-9b38-4b39c943c7c9\" class=\"plotly-graph-div\" style=\"height:525px; width:100%;\"></div>            <script type=\"text/javascript\">                require([\"plotly\"], function(Plotly) {                    window.PLOTLYENV=window.PLOTLYENV || {};                                    if (document.getElementById(\"f1cf9c7f-5897-449a-9b38-4b39c943c7c9\")) {                    Plotly.newPlot(                        \"f1cf9c7f-5897-449a-9b38-4b39c943c7c9\",                        [{\"domain\":{\"x\":[0.0,1.0],\"y\":[0.0,1.0]},\"hole\":0.5,\"hovertemplate\":\"scenario_category=%{label}<extra></extra>\",\"labels\":[\"Scanner\",\"Bruteforce\",\"Bruteforce\",\"Bruteforce\",\"Bruteforce\",\"Scanner\",\"Bruteforce\",\"Scanner\",\"Scanner\",\"Scanner\",\"Scanner\",\"Scanner\",\"Scanner\",\"Bruteforce\",\"Bruteforce\",\"Bruteforce\",\"Bruteforce\",\"Bruteforce\",\"Bruteforce\",\"Bruteforce\",\"Bruteforce\",\"Scanner\",\"Scanner\",\"Bruteforce\",\"Bruteforce\",\"Bruteforce\",\"Bruteforce\",\"Scanner\",\"Scanner\",\"Bruteforce\",\"Scanner\",\"Scanner\",\"Scanner\",\"Scanner\",\"Exploit\",\"Scanner\",\"Scanner\",\"Scanner\",\"Scanner\",\"Bruteforce\",\"Bruteforce\",\"Bruteforce\",\"Bruteforce\",\"Bruteforce\",\"Bruteforce\",\"Bruteforce\",\"Bruteforce\",\"Bruteforce\",\"Bruteforce\",\"Scanner\",\"Scanner\",\"Bruteforce\",\"Bruteforce\",\"Bruteforce\",\"Bruteforce\",\"Bruteforce\",\"Bruteforce\",\"Bruteforce\",\"Bruteforce\",\"Scanner\",\"Scanner\",\"Bruteforce\",\"Bruteforce\",\"Bruteforce\",\"Bruteforce\",\"Scanner\",\"Scanner\",\"Scanner\",\"Scanner\",\"Scanner\",\"Bruteforce\",\"Scanner\",\"Scanner\",\"Scanner\",\"Bruteforce\",\"Bruteforce\",\"Bruteforce\",\"Scanner\",\"Scanner\",\"Scanner\",\"Scanner\",\"Scanner\",\"Scanner\",\"Bruteforce\",\"Bruteforce\",\"Bruteforce\",\"Bruteforce\",\"Scanner\",\"Exploit\",\"Scanner\",\"Scanner\",\"Bruteforce\",\"Bruteforce\",\"Bruteforce\",\"Bruteforce\",\"Scanner\",\"Scanner\",\"Scanner\",\"Scanner\",\"Bruteforce\",\"Bruteforce\",\"Bruteforce\",\"Bruteforce\",\"Bruteforce\",\"Bruteforce\",\"Bruteforce\",\"Bruteforce\",\"Bruteforce\",\"Bruteforce\",\"Bruteforce\",\"Bruteforce\",\"Bruteforce\",\"Bruteforce\",\"Bruteforce\",\"Bruteforce\",\"Scanner\",\"Scanner\",\"Exploit\",\"Scanner\",\"Scanner\",\"Scanner\",\"Scanner\",\"Scanner\",\"Bruteforce\",\"Scanner\",\"Scanner\",\"Scanner\",\"Scanner\",\"Scanner\",\"Scanner\",\"Scanner\",\"Scanner\",\"Bruteforce\",\"Bruteforce\",\"Bruteforce\",\"Bruteforce\",\"Scanner\",\"Bruteforce\",\"Bruteforce\",\"Bruteforce\",\"Bruteforce\",\"Bruteforce\",\"Bruteforce\",\"Bruteforce\",\"Bruteforce\",\"Scanner\",\"Bruteforce\",\"Bruteforce\",\"Bruteforce\",\"Bruteforce\",\"Bruteforce\",\"Bruteforce\",\"Scanner\",\"Bruteforce\",\"Bruteforce\",\"Bruteforce\",\"Scanner\",\"Exploit\",\"Scanner\",\"Scanner\",\"Scanner\",\"Bruteforce\",\"Bruteforce\",\"Bruteforce\",\"Bruteforce\",\"Exploit\",\"Scanner\",\"Scanner\"],\"legendgroup\":\"\",\"name\":\"\",\"showlegend\":true,\"type\":\"pie\"}],                        {\"template\":{\"layout\":{\"colorway\":[\"#5D54B0\",\"#FFC343\",\"#C3BEF3\",\"#4C91C2\",\"#B90C85\",\"#FFD1E4\",\"#E21717\",\"#F17C4E\",\"#9E5C4F\",\"#3EBB3E\"],\"legend\":{\"xanchor\":\"right\",\"y\":0.99,\"yanchor\":\"top\"},\"margin\":{\"b\":60,\"l\":60,\"r\":60,\"t\":60},\"title\":{\"x\":0.5},\"xaxis\":{\"automargin\":true,\"showgrid\":false},\"yaxis\":{\"automargin\":true}}},\"legend\":{\"tracegroupgap\":0},\"title\":{\"text\":\"Scenario Category Distribution - MachineB#Bouncer\"}},                        {\"responsive\": true}                    ).then(function(){\n",
       "                            \n",
       "var gd = document.getElementById('f1cf9c7f-5897-449a-9b38-4b39c943c7c9');\n",
       "var x = new MutationObserver(function (mutations, observer) {{\n",
       "        var display = window.getComputedStyle(gd).display;\n",
       "        if (!display || display === 'none') {{\n",
       "            console.log([gd, 'removed!']);\n",
       "            Plotly.purge(gd);\n",
       "            observer.disconnect();\n",
       "        }}\n",
       "}});\n",
       "\n",
       "// Listen for the removal of the full notebook cells\n",
       "var notebookContainer = gd.closest('#notebook-container');\n",
       "if (notebookContainer) {{\n",
       "    x.observe(notebookContainer, {childList: true});\n",
       "}}\n",
       "\n",
       "// Listen for the clearing of the current output cell\n",
       "var outputEl = gd.closest('.output');\n",
       "if (outputEl) {{\n",
       "    x.observe(outputEl, {childList: true});\n",
       "}}\n",
       "\n",
       "                        })                };                });            </script>        </div>"
      ]
     },
     "metadata": {},
     "output_type": "display_data"
    }
   ],
   "source": [
    "for group, dd in df.groupby(CONFIG_COL):\n",
    "    title = f\"Malevolence Score Distribution - {group}\"\n",
    "    fig = px.pie(dd, \"malevolence_score\", title=title, labels=\"score\", hole=0.5)\n",
    "    save_fig(fig, title)\n",
    "    fig.show()\n",
    "    title = f\"Scenario Category Distribution - {group}\"\n",
    "    fig = px.pie(dd, \"scenario_category\", title=title, labels=\"scenario\", hole=0.5)\n",
    "    save_fig(fig, title)\n",
    "    fig.show()\n",
    "    \n",
    "# GRoup bar plot\n",
    "title = f\"Scenario Category Distribution\"\n",
    "fig = px.histogram(df, \"scenario_category\", color=CONFIG_COL, title=title, barmode='group').update_xaxes(\n",
    "    title=None\n",
    ").update_yaxes(title=\"Number of IPs Reported\", automargin=True).update_layout(\n",
    "    showlegend=True\n",
    ")\n",
    "save_fig(fig, title, suffix=\"bar\")"
   ]
  }
 ],
 "metadata": {
  "kernelspec": {
   "display_name": "kpi397",
   "language": "python",
   "name": "kpi397"
  },
  "language_info": {
   "codemirror_mode": {
    "name": "ipython",
    "version": 3
   },
   "file_extension": ".py",
   "mimetype": "text/x-python",
   "name": "python",
   "nbconvert_exporter": "python",
   "pygments_lexer": "ipython3",
   "version": "3.9.7"
  },
  "toc": {
   "base_numbering": 1,
   "nav_menu": {},
   "number_sections": true,
   "sideBar": true,
   "skip_h1_title": false,
   "title_cell": "Table of Contents",
   "title_sidebar": "Contents",
   "toc_cell": false,
   "toc_position": {
    "height": "calc(100% - 180px)",
    "left": "10px",
    "top": "150px",
    "width": "349.091px"
   },
   "toc_section_display": true,
   "toc_window_display": true
  }
 },
 "nbformat": 4,
 "nbformat_minor": 5
}
